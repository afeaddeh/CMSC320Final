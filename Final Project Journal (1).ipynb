{
 "cells": [
  {
   "cell_type": "markdown",
   "id": "11d6807b",
   "metadata": {},
   "source": [
    "## Gathering Data (EDIT)\n",
    "\n",
    "\n",
    "Publically available data containing movie/tv shows genres, rating, and year of release has already been collected by various reputable sources. We chose to investigate the IMDb Datasets (https://www.imdb.com/interfaces/). These datasets have movie data going back all the way to               . The datasets also contain a wide range of potentially interesting data including: if it's an Adult movie, the production year, other(potentially foriegn) titles , names of directors, names of writers, etc. Another big positive to working with these datasets is that they are completely free to the public.  \n",
    "\n",
    "\n",
    "Meanwhile with other media datasets, while they are just as extensive as IMDb, they would require a payment to get the complete dataset and not just a sample. For instance, another database we were considering using was The Numbers (https://www.the-numbers.com/box-office-records/domestic/all-movies/cumulative/all-time/2501). However, we realised to get the data we required we would have to pay $475. \n"
   ]
  },
  {
   "cell_type": "markdown",
   "id": "2340a426",
   "metadata": {},
   "source": [
    "## Data Processing\n",
    "\n",
    "\n",
    "There times when the data you recieve from the databases are not in the correct format. Or, in a format that is difficult for the system to comprehend/handle. \n",
    "\n",
    "As mentioned above, one positive to IMDb Datasaets is that we would have a large dataset to analyze and explore. However, it is also a negative. Because it is so large (a total of 710 MB!!), it is impossible for most laptops/computers to process the data all at once. As a result, it must be condensed to only contain data we think may be relavent in future analysis and must be proccessed in chunks. \n",
    "\n",
    "NOTE: This is a common problem in data science and would most likely need to be addressed when you do data science analysis in the future.\n"
   ]
  },
  {
   "cell_type": "code",
   "execution_count": 58,
   "id": "48be5c39",
   "metadata": {},
   "outputs": [
    {
     "name": "stderr",
     "output_type": "stream",
     "text": [
      "/Users/aaddeh/opt/anaconda3/lib/python3.8/site-packages/IPython/core/interactiveshell.py:3169: DtypeWarning: Columns (5) have mixed types.Specify dtype option on import or set low_memory=False.\n",
      "  has_raised = await self.run_ast_nodes(code_ast.body, cell_name,\n"
     ]
    }
   ],
   "source": [
    "import pandas as pd\n",
    "\n",
    "#dictates the number of rows each data frame should have\n",
    "chunksize = 100000\n",
    "\n",
    "# the list that contains all the dataframes\n",
    "list_of_dataframes = []\n",
    "\n",
    "#Seperates title.basics.tsv into chunks with 100000 rows with the header of row 0.\n",
    "#The columns of the dataframes would be tconst, originalTitle, startYear (publication year), \n",
    "#and genres data. each chunck is added to list_of_dataframes\n",
    "for df in pd.read_csv(\"title.basics.tsv\", sep='\\t', chunksize=chunksize, \n",
    "                       header=0, usecols=['tconst', 'primaryTitle', 'genres', 'startYear', 'endYear']):\n",
    "      list_of_dataframes.append(df)\n",
    "        \n",
    "#concats all the chunck dataframes to make one combined        \n",
    "data1 = pd.concat(list_of_dataframes)\n"
   ]
  },
  {
   "cell_type": "code",
   "execution_count": 59,
   "id": "assigned-afghanistan",
   "metadata": {},
   "outputs": [
    {
     "data": {
      "text/html": [
       "<div>\n",
       "<style scoped>\n",
       "    .dataframe tbody tr th:only-of-type {\n",
       "        vertical-align: middle;\n",
       "    }\n",
       "\n",
       "    .dataframe tbody tr th {\n",
       "        vertical-align: top;\n",
       "    }\n",
       "\n",
       "    .dataframe thead th {\n",
       "        text-align: right;\n",
       "    }\n",
       "</style>\n",
       "<table border=\"1\" class=\"dataframe\">\n",
       "  <thead>\n",
       "    <tr style=\"text-align: right;\">\n",
       "      <th></th>\n",
       "      <th>tconst</th>\n",
       "      <th>primaryTitle</th>\n",
       "      <th>startYear</th>\n",
       "      <th>endYear</th>\n",
       "      <th>genres</th>\n",
       "    </tr>\n",
       "  </thead>\n",
       "  <tbody>\n",
       "    <tr>\n",
       "      <th>0</th>\n",
       "      <td>tt0000001</td>\n",
       "      <td>Carmencita</td>\n",
       "      <td>1894</td>\n",
       "      <td>\\N</td>\n",
       "      <td>Documentary,Short</td>\n",
       "    </tr>\n",
       "    <tr>\n",
       "      <th>1</th>\n",
       "      <td>tt0000002</td>\n",
       "      <td>Le clown et ses chiens</td>\n",
       "      <td>1892</td>\n",
       "      <td>\\N</td>\n",
       "      <td>Animation,Short</td>\n",
       "    </tr>\n",
       "    <tr>\n",
       "      <th>2</th>\n",
       "      <td>tt0000003</td>\n",
       "      <td>Pauvre Pierrot</td>\n",
       "      <td>1892</td>\n",
       "      <td>\\N</td>\n",
       "      <td>Animation,Comedy,Romance</td>\n",
       "    </tr>\n",
       "    <tr>\n",
       "      <th>3</th>\n",
       "      <td>tt0000004</td>\n",
       "      <td>Un bon bock</td>\n",
       "      <td>1892</td>\n",
       "      <td>\\N</td>\n",
       "      <td>Animation,Short</td>\n",
       "    </tr>\n",
       "    <tr>\n",
       "      <th>4</th>\n",
       "      <td>tt0000005</td>\n",
       "      <td>Blacksmith Scene</td>\n",
       "      <td>1893</td>\n",
       "      <td>\\N</td>\n",
       "      <td>Comedy,Short</td>\n",
       "    </tr>\n",
       "  </tbody>\n",
       "</table>\n",
       "</div>"
      ],
      "text/plain": [
       "      tconst            primaryTitle startYear endYear  \\\n",
       "0  tt0000001              Carmencita      1894      \\N   \n",
       "1  tt0000002  Le clown et ses chiens      1892      \\N   \n",
       "2  tt0000003          Pauvre Pierrot      1892      \\N   \n",
       "3  tt0000004             Un bon bock      1892      \\N   \n",
       "4  tt0000005        Blacksmith Scene      1893      \\N   \n",
       "\n",
       "                     genres  \n",
       "0         Documentary,Short  \n",
       "1           Animation,Short  \n",
       "2  Animation,Comedy,Romance  \n",
       "3           Animation,Short  \n",
       "4              Comedy,Short  "
      ]
     },
     "execution_count": 59,
     "metadata": {},
     "output_type": "execute_result"
    }
   ],
   "source": [
    "data1.head()"
   ]
  },
  {
   "cell_type": "markdown",
   "id": "2c44a4aa",
   "metadata": {},
   "source": [
    "Each movie instance/row has the following features/attributes: \n",
    "* tconst  - IMDb's alphanumeric unique identifier of the movie title\n",
    "* primaryTitle  – the more popular movie title / the movietitle used by the filmmakers on promotional     materials at the point of release\n",
    "* startYear  – represents the release year of a movie title.  In the case of TV Series, it is the series start year\n",
    "* endYear  – TV Series end year. ‘\\N’ for all other title types\n",
    "* genres  – includes up to three genres associated with the title\n",
    "\n",
    "All of them are object types.\n",
    "\n",
    "\n",
    "\n"
   ]
  },
  {
   "cell_type": "code",
   "execution_count": 60,
   "id": "answering-surrey",
   "metadata": {},
   "outputs": [
    {
     "data": {
      "text/html": [
       "<div>\n",
       "<style scoped>\n",
       "    .dataframe tbody tr th:only-of-type {\n",
       "        vertical-align: middle;\n",
       "    }\n",
       "\n",
       "    .dataframe tbody tr th {\n",
       "        vertical-align: top;\n",
       "    }\n",
       "\n",
       "    .dataframe thead th {\n",
       "        text-align: right;\n",
       "    }\n",
       "</style>\n",
       "<table border=\"1\" class=\"dataframe\">\n",
       "  <thead>\n",
       "    <tr style=\"text-align: right;\">\n",
       "      <th></th>\n",
       "      <th>tconst</th>\n",
       "      <th>averageRating</th>\n",
       "      <th>numVotes</th>\n",
       "    </tr>\n",
       "  </thead>\n",
       "  <tbody>\n",
       "    <tr>\n",
       "      <th>0</th>\n",
       "      <td>tt0000001</td>\n",
       "      <td>5.7</td>\n",
       "      <td>1718</td>\n",
       "    </tr>\n",
       "    <tr>\n",
       "      <th>1</th>\n",
       "      <td>tt0000002</td>\n",
       "      <td>6.0</td>\n",
       "      <td>211</td>\n",
       "    </tr>\n",
       "    <tr>\n",
       "      <th>2</th>\n",
       "      <td>tt0000003</td>\n",
       "      <td>6.5</td>\n",
       "      <td>1480</td>\n",
       "    </tr>\n",
       "    <tr>\n",
       "      <th>3</th>\n",
       "      <td>tt0000004</td>\n",
       "      <td>6.1</td>\n",
       "      <td>124</td>\n",
       "    </tr>\n",
       "    <tr>\n",
       "      <th>4</th>\n",
       "      <td>tt0000005</td>\n",
       "      <td>6.2</td>\n",
       "      <td>2283</td>\n",
       "    </tr>\n",
       "  </tbody>\n",
       "</table>\n",
       "</div>"
      ],
      "text/plain": [
       "      tconst  averageRating  numVotes\n",
       "0  tt0000001            5.7      1718\n",
       "1  tt0000002            6.0       211\n",
       "2  tt0000003            6.5      1480\n",
       "3  tt0000004            6.1       124\n",
       "4  tt0000005            6.2      2283"
      ]
     },
     "execution_count": 60,
     "metadata": {},
     "output_type": "execute_result"
    }
   ],
   "source": [
    "#makes a dataframe from the data in the title.ratings.tsv database\n",
    "#averageRating is the average IMDb rating , numVotes is the number of IMDd\n",
    "#votes the movie recieved\n",
    "data2= pd.read_csv(\"title.ratings.tsv\", sep='\\t')\n",
    "data2.head()"
   ]
  },
  {
   "cell_type": "markdown",
   "id": "7c75d474",
   "metadata": {},
   "source": [
    "Each movie instance/row has the following features/attributes: \n",
    "* tconst - IMDb's alphanumeric unique identifier of the movie title (same as dataframe above)\n",
    "* averageRating  – weighted average of all the individual user ratings\n",
    "* numVotes  - number of votes the title has received\n",
    "\n",
    "All of them are object types.\n"
   ]
  },
  {
   "cell_type": "markdown",
   "id": "4b0b6186",
   "metadata": {},
   "source": [
    "#### Processing unavailable data in the Dataframe\n",
    "\n",
    "It is very important the data within the dataframe that is unavailable is categorized properly and uniformly.\n",
    "\n",
    "There is no uniform rule on how different databases will represent missing data. Some databases put '-', others write 'NONE', or an empty string. There is an infinite amount of possibilities that databases could use. However, what is important from the data science perspective is how will Pandas interpret those values and having a concesus within the community. \n",
    "\n",
    "Inorder to Pandas (and the community) to understand that a value is missing, that cell must have one of these values:\n",
    "\n",
    "* numpy.NaN (numpy): A number  value is not available in a number column\n",
    "* numpy.nan (numpy): Same as the above (either one could be use for a missing number)\n",
    "* pd.NaT (pandas):A time value in a time column is not available\n",
    "* pd.NA (pandas): A general type of value is Not Available\n",
    "* None (python): similar to pd.NA\n",
    "\n",
    "Note: Data has an underlying meaning. If something was meant to be number but turned out not to be, that could be potentially different from it not being available. \n",
    "\n",
    "According to the IMBd website, their databases use ‘\\N’ to denote that a particular field is missing or null for that title/name. These must be converted to an appropriate value from the list above. \n"
   ]
  },
  {
   "cell_type": "code",
   "execution_count": 65,
   "id": "1feaa3f8",
   "metadata": {},
   "outputs": [],
   "source": [
    "import numpy \n",
    "\n",
    "#replaces all instance of missing values in the data1 dataframe as replace it with a pd Null or numpy Null value\n",
    "data1['tconst'].replace({'\\\\N': pd.NA}, inplace=True)\n",
    "data1['primaryTitle'].replace({'\\\\N': pd.NA}, inplace=True)\n",
    "data1['genres'].replace({'\\\\N': pd.NA}, inplace=True)\n",
    "data1['startYear'].replace({'\\\\N': pd.NaT}, inplace=True) # replaces unavaiable year data with pandas NaT\n",
    "data1['endYear'].replace({'\\\\N': pd.NaT}, inplace=True) # replaces unavaiable year data with pandas NaT\n",
    "\n",
    "#replaces all instance of missing values in the data2 dataframe as replace it with a pd Null or numpy Null value\n",
    "data2['tconst'].replace({'\\\\N': pd.NA}, inplace=True)\n",
    "data2['averageRating'].replace({'\\\\N':numpy.NaN}, inplace=True)\n",
    "data2['numVotes'].replace({'\\\\N':numpy.NaN}, inplace=True)\n"
   ]
  },
  {
   "cell_type": "code",
   "execution_count": 72,
   "id": "57b8fce9",
   "metadata": {},
   "outputs": [],
   "source": [
    "# data1['startYear']=data1['startYear'].astype(dtype = int, errors = 'ignore')\n",
    "# data1"
   ]
  }
 ],
 "metadata": {
  "kernelspec": {
   "display_name": "Python 3 (ipykernel)",
   "language": "python",
   "name": "python3"
  },
  "language_info": {
   "codemirror_mode": {
    "name": "ipython",
    "version": 3
   },
   "file_extension": ".py",
   "mimetype": "text/x-python",
   "name": "python",
   "nbconvert_exporter": "python",
   "pygments_lexer": "ipython3",
   "version": "3.8.8"
  }
 },
 "nbformat": 4,
 "nbformat_minor": 5
}
