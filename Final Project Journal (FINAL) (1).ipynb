{
 "cells": [
  {
   "cell_type": "markdown",
   "id": "0ffedcdd",
   "metadata": {},
   "source": [
    "# Movie Genre and Rating Analysis\n",
    "\n",
    "Tutorial by Afe Addeh, Jorin Vincent, and Priscila Kozlov\n"
   ]
  },
  {
   "cell_type": "markdown",
   "id": "c0b86a73",
   "metadata": {},
   "source": [
    "## Introduction\n",
    "For this project, we will combine our efforts to analyze the film industry across time. Our passion for movies has made us question the decrease in the production of some of our favorite movie genres in the last few years. We will try to find out if the following analysis can take us on the right path to discover some of the variables that are shaping the production trend in the film industry.\n",
    "\n",
    "## Background Information\n",
    "After the invention of the kinetoscope in 1891, film inventors have done their best to come up with new ways to innovate the film industry. Over time, the film industry has passed through different eras going from silent movies to 3D animations. However, in the last years, producers now seem to be focusing more on the production of some specific genres. A visit to a movie theater can confirm that there are some genres like romance and drama that are less common compared to horror, animation, and action movies.\n",
    "\n",
    "Hollywood produces more than 700 movies on average every year. The main film distributors are Disney, Universal, Paramount, Warner Bros, MGM, and Sony. Hollywood is the most influential and oldest film industry, followed by India (Bollywood), China, United Kingdom, and Japan.While China has become the largest box office territory, the US still has the largest box office from national films and still dominates The Oscars. In terms of productions, India is on top of the chart with almost 2000 films yearly.\n",
    "\n",
    "We believe that the information above is crucial to narrow down our following analysis.\n"
   ]
  },
  {
   "cell_type": "markdown",
   "id": "9e5e09c2",
   "metadata": {},
   "source": [
    "## Goal Of This Tutorial \n",
    "\n",
    "The goal of this tutorial is to provide a sample Data Science project that walks through the Data Science pipeline. The Data Science pipeline consists of five main stages: Data Collection, Data Processing, Exploratory Analysis, Hypothesis Testing, and Insight & Policy Decision. The order that a researcher proceeds through the fours stages is typically non-linear. This  is because as a researcher progress through the pipeline, they might find it necceasry to revisit stages that they have already done. For instance, while at the Hypothesis Testing stage you determined that in order to accuratly test your hypthesis you would need data in a certain format. Unfortunately, that data is in a different format. That would cause you to jump from the Hypothesis Testing and back to the Data Proccessing stage.\n",
    "\n",
    "Each of the four stages will be futher explained below. However, here  will will go over a brief overview of what each stage consist of.  FINISH\n",
    "* Data Collection: The action of gathering the data\n",
    "* Data proccessing: The act of gathering the data that you are interested in analyazing and getting it in the required format for your system/platform\n",
    "* Exploratory Analysis: Exploring the data and seeing what it looks like through various visuals\n",
    "* Analysis, Hypothesis, Testing, and Machine Learning: Doing actaul analysis to test the idea gained in the exploratory stage\n",
    "* Insight & Policy Decision: Communicating what has been done and why is important\n",
    "\n",
    "\n",
    "At the end of this tutorial we hope that the reader better understands the phases that are implemented in Data Science projects, the background descisions and thought processes that are involved, and the fact that Data Science is really subjective - most of the time there is no one size fits all implementation/solution!\n",
    "\n",
    "#### General data topics we were interested in analyzing in the project\n",
    "\n",
    "* How does a movie's genre relate to its total gross/yearly gross? \n",
    "* Does the rating correlate to the movie gross?\n",
    "* What about the number of box office releases for that movie?\n",
    "* If the movie with year's highest movie gross is of a specific genre to are more movies of that genre produced?\n",
    "* Is there any relation the genre of movies being released and the average movie gross for the genre?\n",
    "* Is there any relation to genre and movie gross in general?\n",
    "\n",
    "\n",
    "\n",
    "#### Things to keep in mind\n",
    "\n",
    "* We, the group we created this tutorial, had a limited amount of time (roughly two weeks) that we could dedicate towards creating this tutorial. Due to that time constaint, and the large amount of effort getting/formatting the data took, a large potion of the tutorial will be dedicated to the Data Processing stage. \n",
    "\n",
    "* That time constraint also made it impossible to proccess all the data we have available at our fingertips - meaning in the data we recieved on the internet. We had to figure out a way to reduce the ammount of data we analyze so this tutorial would be done in time. As a result, we decided to only look at movie data from 1960's and onwards. We picked the 1960's because the 1960's is commonly agreed as the start of the Hollywood era. Since our general question center arount veiwer ratings and box office movie gross, its more likely that we would get more accurate data using the 1960 and later data.\n"
   ]
  },
  {
   "cell_type": "markdown",
   "id": "7282f923",
   "metadata": {},
   "source": [
    "## Gathering Data \n",
    "\n",
    "\n",
    "Publically available data containing movie/tv shows genres, rating, year gross, and year of release has already been collected by various reputable sources. We chose to investigate the IMDb Datasets (https://www.imdb.com/interfaces/), the BoxOfficeMojo Domestic Yearly Box Office dataset (https://www.boxofficemojo.com/year/?grossesOption=calendarGrosses), and the Wikipedia Top 100 Highest Grossing Domestic Box Office Films (https://en.wikipedia.org/wiki/List_of_highest-grossing_films_in_the_United_States_and_Canada#endnote_initial). These datasets have movie data going back all the way to 1874. The datasets also contain a wide range of potentially interesting data including: if it's an Adult movie, the production year, other (potentially foriegn) titles, names of directors, names of writers, etc. Another big positive to working with these datasets is that they are completely free to the public.  \n",
    "\n",
    "\n",
    "Meanwhile with other media datasets, while they are just as extensive as IMDb, they would require a payment to get the complete dataset and not just a sample. For instance, another database we were considering using was The Numbers (https://www.the-numbers.com/box-office-records/domestic/all-movies/cumulative/all-time/2501). However, we realised to get the data we required we would have to pay $475.\n",
    "\n"
   ]
  },
  {
   "cell_type": "markdown",
   "id": "2340a426",
   "metadata": {},
   "source": [
    "## Data Processing\n",
    "\n",
    "\n",
    "There are times when the data you recieve from the databases are not in the correct format or in a format that is difficult for the system to comprehend/handle. \n",
    "\n",
    "We will be using three datasets from IMDb. We must use three datasets instead of one since each dataset has relevant data to our question. However, there isn't one already made dataset that has all the information. As a result, we must upload all three databases, get the relevant infomation for each, and then combine the relavent data into one dataframe. \n",
    "\n",
    "As mentioned in the Gathering Data section, one positive to IMDb Datasaets is that we would have a large dataset to analyze and explore. However, it is also a negative. Because it is so large (a total of 710 MB!!), it is impossible for most laptops/computers to process the data all at once. As a result, it must be condensed to only contain data we think may be relavent in future analysis and must be proccessed in chunks. \n",
    "\n",
    "NOTE: This is a common problem in data science and would most likely need to be addressed when you do data science analysis in the future.\n"
   ]
  },
  {
   "cell_type": "markdown",
   "id": "fe3e938c",
   "metadata": {},
   "source": [
    "#### Getting the IMDb DataFrames"
   ]
  },
  {
   "cell_type": "code",
   "execution_count": 1,
   "id": "0476c728",
   "metadata": {},
   "outputs": [],
   "source": [
    "import pandas as pd\n",
    "import requests as rq\n",
    "from bs4 import BeautifulSoup\n",
    "import numpy as np\n",
    "import matplotlib.pyplot as plt\n",
    "import seaborn as sns\n",
    "import matplotlib.lines as mlines \n",
    "from matplotlib.pyplot import figure \n",
    "from collections import defaultdict\n",
    "from statsmodels.formula.api import ols\n",
    "import warnings\n",
    "from pandas.core.common import SettingWithCopyWarning\n",
    "\n",
    "warnings.simplefilter(action=\"ignore\", category=SettingWithCopyWarning)"
   ]
  },
  {
   "cell_type": "code",
   "execution_count": 2,
   "id": "48be5c39",
   "metadata": {},
   "outputs": [
    {
     "name": "stderr",
     "output_type": "stream",
     "text": [
      "C:\\Users\\Crunchwrap Supreme\\anaconda3\\lib\\site-packages\\IPython\\core\\interactiveshell.py:3165: DtypeWarning: Columns (5) have mixed types.Specify dtype option on import or set low_memory=False.\n",
      "  has_raised = await self.run_ast_nodes(code_ast.body, cell_name,\n"
     ]
    }
   ],
   "source": [
    "#dictates the number of rows each data frame should have\n",
    "chunksize = 100000\n",
    "\n",
    "# the list that contains all the dataframes\n",
    "list_of_dataframes = []\n",
    "\n",
    "\n",
    "# Seperates title.basics.tsv into chunks with 100000 rows with the header of row 0.\n",
    "#The columns of the dataframes would be tconst, originalTitle, startYear (publication year), \n",
    "#and genres data. each chunck is added to list_of_dataframes\n",
    "for df in pd.read_csv(\"title.basics.tsv\", sep='\\t', chunksize=chunksize, \n",
    "                       header=0, usecols=['tconst', 'primaryTitle', 'genres', 'startYear', 'endYear']):\n",
    "      list_of_dataframes.append(df)\n",
    "        \n",
    "#concats all the chunck dataframes to make one combined        \n",
    "data1 = pd.concat(list_of_dataframes)"
   ]
  },
  {
   "cell_type": "code",
   "execution_count": 3,
   "id": "assigned-afghanistan",
   "metadata": {},
   "outputs": [
    {
     "data": {
      "text/html": [
       "<div>\n",
       "<style scoped>\n",
       "    .dataframe tbody tr th:only-of-type {\n",
       "        vertical-align: middle;\n",
       "    }\n",
       "\n",
       "    .dataframe tbody tr th {\n",
       "        vertical-align: top;\n",
       "    }\n",
       "\n",
       "    .dataframe thead th {\n",
       "        text-align: right;\n",
       "    }\n",
       "</style>\n",
       "<table border=\"1\" class=\"dataframe\">\n",
       "  <thead>\n",
       "    <tr style=\"text-align: right;\">\n",
       "      <th></th>\n",
       "      <th>tconst</th>\n",
       "      <th>primaryTitle</th>\n",
       "      <th>startYear</th>\n",
       "      <th>endYear</th>\n",
       "      <th>genres</th>\n",
       "    </tr>\n",
       "  </thead>\n",
       "  <tbody>\n",
       "    <tr>\n",
       "      <th>0</th>\n",
       "      <td>tt0000001</td>\n",
       "      <td>Carmencita</td>\n",
       "      <td>1894</td>\n",
       "      <td>\\N</td>\n",
       "      <td>Documentary,Short</td>\n",
       "    </tr>\n",
       "    <tr>\n",
       "      <th>1</th>\n",
       "      <td>tt0000002</td>\n",
       "      <td>Le clown et ses chiens</td>\n",
       "      <td>1892</td>\n",
       "      <td>\\N</td>\n",
       "      <td>Animation,Short</td>\n",
       "    </tr>\n",
       "    <tr>\n",
       "      <th>2</th>\n",
       "      <td>tt0000003</td>\n",
       "      <td>Pauvre Pierrot</td>\n",
       "      <td>1892</td>\n",
       "      <td>\\N</td>\n",
       "      <td>Animation,Comedy,Romance</td>\n",
       "    </tr>\n",
       "    <tr>\n",
       "      <th>3</th>\n",
       "      <td>tt0000004</td>\n",
       "      <td>Un bon bock</td>\n",
       "      <td>1892</td>\n",
       "      <td>\\N</td>\n",
       "      <td>Animation,Short</td>\n",
       "    </tr>\n",
       "    <tr>\n",
       "      <th>4</th>\n",
       "      <td>tt0000005</td>\n",
       "      <td>Blacksmith Scene</td>\n",
       "      <td>1893</td>\n",
       "      <td>\\N</td>\n",
       "      <td>Comedy,Short</td>\n",
       "    </tr>\n",
       "  </tbody>\n",
       "</table>\n",
       "</div>"
      ],
      "text/plain": [
       "      tconst            primaryTitle startYear endYear  \\\n",
       "0  tt0000001              Carmencita      1894      \\N   \n",
       "1  tt0000002  Le clown et ses chiens      1892      \\N   \n",
       "2  tt0000003          Pauvre Pierrot      1892      \\N   \n",
       "3  tt0000004             Un bon bock      1892      \\N   \n",
       "4  tt0000005        Blacksmith Scene      1893      \\N   \n",
       "\n",
       "                     genres  \n",
       "0         Documentary,Short  \n",
       "1           Animation,Short  \n",
       "2  Animation,Comedy,Romance  \n",
       "3           Animation,Short  \n",
       "4              Comedy,Short  "
      ]
     },
     "execution_count": 3,
     "metadata": {},
     "output_type": "execute_result"
    }
   ],
   "source": [
    "data1.head()"
   ]
  },
  {
   "cell_type": "markdown",
   "id": "2c44a4aa",
   "metadata": {},
   "source": [
    "Each production instance/row has the following features/attributes: \n",
    "* tconst  – IMDb's alphanumeric unique identifier of the movie title\n",
    "* primaryTitle  – the more popular movie title / the movietitle used by the filmmakers on promotional     materials at the point of release\n",
    "* startYear  – represents the release year of a movie title.  In the case of TV Series, it is the series start year\n",
    "* endYear  – TV Series end year. ‘\\N’ for all other title types\n",
    "* genres  – includes up to three genres associated with the title\n",
    "\n",
    "All of them are object types.\n",
    "\n"
   ]
  },
  {
   "cell_type": "code",
   "execution_count": 4,
   "id": "answering-surrey",
   "metadata": {},
   "outputs": [
    {
     "data": {
      "text/html": [
       "<div>\n",
       "<style scoped>\n",
       "    .dataframe tbody tr th:only-of-type {\n",
       "        vertical-align: middle;\n",
       "    }\n",
       "\n",
       "    .dataframe tbody tr th {\n",
       "        vertical-align: top;\n",
       "    }\n",
       "\n",
       "    .dataframe thead th {\n",
       "        text-align: right;\n",
       "    }\n",
       "</style>\n",
       "<table border=\"1\" class=\"dataframe\">\n",
       "  <thead>\n",
       "    <tr style=\"text-align: right;\">\n",
       "      <th></th>\n",
       "      <th>tconst</th>\n",
       "      <th>averageRating</th>\n",
       "      <th>numVotes</th>\n",
       "    </tr>\n",
       "  </thead>\n",
       "  <tbody>\n",
       "    <tr>\n",
       "      <th>0</th>\n",
       "      <td>tt0000001</td>\n",
       "      <td>5.7</td>\n",
       "      <td>1725</td>\n",
       "    </tr>\n",
       "    <tr>\n",
       "      <th>1</th>\n",
       "      <td>tt0000002</td>\n",
       "      <td>6.0</td>\n",
       "      <td>211</td>\n",
       "    </tr>\n",
       "    <tr>\n",
       "      <th>2</th>\n",
       "      <td>tt0000003</td>\n",
       "      <td>6.5</td>\n",
       "      <td>1487</td>\n",
       "    </tr>\n",
       "    <tr>\n",
       "      <th>3</th>\n",
       "      <td>tt0000004</td>\n",
       "      <td>6.1</td>\n",
       "      <td>125</td>\n",
       "    </tr>\n",
       "    <tr>\n",
       "      <th>4</th>\n",
       "      <td>tt0000005</td>\n",
       "      <td>6.2</td>\n",
       "      <td>2288</td>\n",
       "    </tr>\n",
       "  </tbody>\n",
       "</table>\n",
       "</div>"
      ],
      "text/plain": [
       "      tconst  averageRating  numVotes\n",
       "0  tt0000001            5.7      1725\n",
       "1  tt0000002            6.0       211\n",
       "2  tt0000003            6.5      1487\n",
       "3  tt0000004            6.1       125\n",
       "4  tt0000005            6.2      2288"
      ]
     },
     "execution_count": 4,
     "metadata": {},
     "output_type": "execute_result"
    }
   ],
   "source": [
    "#makes a dataframe from the data in the title.ratings.tsv database\n",
    "#averageRating is the average IMDb rating , numVotes is the number of IMDd\n",
    "#votes the movie recieved\n",
    "data2= pd.read_csv(\"title.ratings.tsv\", sep='\\t')\n",
    "data2.head()"
   ]
  },
  {
   "cell_type": "markdown",
   "id": "7c75d474",
   "metadata": {},
   "source": [
    "Each movie instance/row has the following features/attributes: \n",
    "* tconst  – IMDb's alphanumeric unique identifier of the movie title (same as dataframe above)\n",
    "* averageRating  – weighted average of all the individual user ratings\n",
    "* numVotes  – number of votes the title has received\n",
    "\n",
    "All of them are object types.\n"
   ]
  },
  {
   "cell_type": "code",
   "execution_count": 5,
   "id": "9fcb095a",
   "metadata": {},
   "outputs": [
    {
     "data": {
      "text/html": [
       "<div>\n",
       "<style scoped>\n",
       "    .dataframe tbody tr th:only-of-type {\n",
       "        vertical-align: middle;\n",
       "    }\n",
       "\n",
       "    .dataframe tbody tr th {\n",
       "        vertical-align: top;\n",
       "    }\n",
       "\n",
       "    .dataframe thead th {\n",
       "        text-align: right;\n",
       "    }\n",
       "</style>\n",
       "<table border=\"1\" class=\"dataframe\">\n",
       "  <thead>\n",
       "    <tr style=\"text-align: right;\">\n",
       "      <th></th>\n",
       "      <th>titleId</th>\n",
       "    </tr>\n",
       "  </thead>\n",
       "  <tbody>\n",
       "    <tr>\n",
       "      <th>5</th>\n",
       "      <td>tt0000001</td>\n",
       "    </tr>\n",
       "    <tr>\n",
       "      <th>14</th>\n",
       "      <td>tt0000002</td>\n",
       "    </tr>\n",
       "    <tr>\n",
       "      <th>35</th>\n",
       "      <td>tt0000005</td>\n",
       "    </tr>\n",
       "    <tr>\n",
       "      <th>39</th>\n",
       "      <td>tt0000005</td>\n",
       "    </tr>\n",
       "    <tr>\n",
       "      <th>40</th>\n",
       "      <td>tt0000005</td>\n",
       "    </tr>\n",
       "  </tbody>\n",
       "</table>\n",
       "</div>"
      ],
      "text/plain": [
       "      titleId\n",
       "5   tt0000001\n",
       "14  tt0000002\n",
       "35  tt0000005\n",
       "39  tt0000005\n",
       "40  tt0000005"
      ]
     },
     "execution_count": 5,
     "metadata": {},
     "output_type": "execute_result"
    }
   ],
   "source": [
    "#makes a dataframe from a portion of data in the data.tsv database\n",
    "#it only collects the columns of titleID and region and puts that in a dataframe\n",
    "data3= pd.read_csv(\"data.tsv\", sep='\\t', usecols=['titleId', 'region'])\n",
    "\n",
    "# gets all the rows with the region being US \n",
    "data3 = data3[data3['region'] == 'US']\n",
    "\n",
    "#removes the region column since it is no longer needed\n",
    "data3=data3.drop(columns=['region'])\n",
    "\n",
    "data3.head()"
   ]
  },
  {
   "cell_type": "markdown",
   "id": "fe8879ee",
   "metadata": {},
   "source": [
    "Each movie instance/row has the following features/attributes: \n",
    "* titleID (object)  – IMDb's alphanumeric unique identifier of the movie title (same as dataframe above)\n"
   ]
  },
  {
   "cell_type": "markdown",
   "id": "d9737a43",
   "metadata": {},
   "source": [
    "#### Combining the IMDb DataFrames \n",
    "\n",
    "When combining DataFrames, or any type of table, you will have to decide how the join should occur and how that should relate to missing data. Let's say that you have two tables/DataFrames. Table 1 has Data1 values and Table 2 has Data2 value. We will be discussing three main ways to approach merging the two data sets: \n",
    "\n",
    "* Inner Join: Only the rows that are shared acorrding to your defintion (ie. column value, index, etc) between the two tables are put into the new table. That means that there will be no missing data in the final DataFrame/Table since each row will have both Data1 and Data2 values. \n",
    "\n",
    "* Left Join: It provides the same results as Inner Join but it would also include rows that have Data1 values (when considering Table 1 as the left table-which can also be described as the base table) but no Data 2 values. In this case there will be missing data. \n",
    "\n",
    "* Right Join: It provides the same results as Inner Join but it would also include rows that have Data2 values (when considering Table 2 as the right table-the table that is being merged in) but no Data1 values. In this case there will be missing data. \n",
    "\n",
    "Below, you will see that we choose to inner join when merging the IMDb Dataframes. That is because for our research we only wanted the movie data that has all the data since we will explore how those data relate to each other. If a value was missing then using that missing data can lead to future compuutaion errors and confusion. \n",
    "\n",
    "NOTE: There is definitive join that should always be used. You must consider what you are trying to achieve with that data and the releavance of the missing data when determining which join to use."
   ]
  },
  {
   "cell_type": "code",
   "execution_count": 6,
   "id": "39053751",
   "metadata": {},
   "outputs": [
    {
     "data": {
      "text/html": [
       "<div>\n",
       "<style scoped>\n",
       "    .dataframe tbody tr th:only-of-type {\n",
       "        vertical-align: middle;\n",
       "    }\n",
       "\n",
       "    .dataframe tbody tr th {\n",
       "        vertical-align: top;\n",
       "    }\n",
       "\n",
       "    .dataframe thead th {\n",
       "        text-align: right;\n",
       "    }\n",
       "</style>\n",
       "<table border=\"1\" class=\"dataframe\">\n",
       "  <thead>\n",
       "    <tr style=\"text-align: right;\">\n",
       "      <th></th>\n",
       "      <th>tconst</th>\n",
       "      <th>primaryTitle</th>\n",
       "      <th>startYear</th>\n",
       "      <th>endYear</th>\n",
       "      <th>genres</th>\n",
       "      <th>averageRating</th>\n",
       "      <th>numVotes</th>\n",
       "    </tr>\n",
       "  </thead>\n",
       "  <tbody>\n",
       "    <tr>\n",
       "      <th>0</th>\n",
       "      <td>tt0000001</td>\n",
       "      <td>Carmencita</td>\n",
       "      <td>1894</td>\n",
       "      <td>\\N</td>\n",
       "      <td>Documentary,Short</td>\n",
       "      <td>5.7</td>\n",
       "      <td>1725</td>\n",
       "    </tr>\n",
       "    <tr>\n",
       "      <th>1</th>\n",
       "      <td>tt0000002</td>\n",
       "      <td>Le clown et ses chiens</td>\n",
       "      <td>1892</td>\n",
       "      <td>\\N</td>\n",
       "      <td>Animation,Short</td>\n",
       "      <td>6.0</td>\n",
       "      <td>211</td>\n",
       "    </tr>\n",
       "    <tr>\n",
       "      <th>2</th>\n",
       "      <td>tt0000003</td>\n",
       "      <td>Pauvre Pierrot</td>\n",
       "      <td>1892</td>\n",
       "      <td>\\N</td>\n",
       "      <td>Animation,Comedy,Romance</td>\n",
       "      <td>6.5</td>\n",
       "      <td>1487</td>\n",
       "    </tr>\n",
       "    <tr>\n",
       "      <th>3</th>\n",
       "      <td>tt0000004</td>\n",
       "      <td>Un bon bock</td>\n",
       "      <td>1892</td>\n",
       "      <td>\\N</td>\n",
       "      <td>Animation,Short</td>\n",
       "      <td>6.1</td>\n",
       "      <td>125</td>\n",
       "    </tr>\n",
       "    <tr>\n",
       "      <th>4</th>\n",
       "      <td>tt0000005</td>\n",
       "      <td>Blacksmith Scene</td>\n",
       "      <td>1893</td>\n",
       "      <td>\\N</td>\n",
       "      <td>Comedy,Short</td>\n",
       "      <td>6.2</td>\n",
       "      <td>2288</td>\n",
       "    </tr>\n",
       "  </tbody>\n",
       "</table>\n",
       "</div>"
      ],
      "text/plain": [
       "      tconst            primaryTitle startYear endYear  \\\n",
       "0  tt0000001              Carmencita      1894      \\N   \n",
       "1  tt0000002  Le clown et ses chiens      1892      \\N   \n",
       "2  tt0000003          Pauvre Pierrot      1892      \\N   \n",
       "3  tt0000004             Un bon bock      1892      \\N   \n",
       "4  tt0000005        Blacksmith Scene      1893      \\N   \n",
       "\n",
       "                     genres  averageRating  numVotes  \n",
       "0         Documentary,Short            5.7      1725  \n",
       "1           Animation,Short            6.0       211  \n",
       "2  Animation,Comedy,Romance            6.5      1487  \n",
       "3           Animation,Short            6.1       125  \n",
       "4              Comedy,Short            6.2      2288  "
      ]
     },
     "execution_count": 6,
     "metadata": {},
     "output_type": "execute_result"
    }
   ],
   "source": [
    "#merges (through inner join) data1 and data2 based on the tconst values\n",
    "#and makes it a dataframe named partial_data_table\n",
    "partial_table= pd.merge(data1, data2, on='tconst')\n",
    "partial_table.head()"
   ]
  },
  {
   "cell_type": "code",
   "execution_count": 7,
   "id": "e3a92a10",
   "metadata": {},
   "outputs": [
    {
     "data": {
      "text/html": [
       "<div>\n",
       "<style scoped>\n",
       "    .dataframe tbody tr th:only-of-type {\n",
       "        vertical-align: middle;\n",
       "    }\n",
       "\n",
       "    .dataframe tbody tr th {\n",
       "        vertical-align: top;\n",
       "    }\n",
       "\n",
       "    .dataframe thead th {\n",
       "        text-align: right;\n",
       "    }\n",
       "</style>\n",
       "<table border=\"1\" class=\"dataframe\">\n",
       "  <thead>\n",
       "    <tr style=\"text-align: right;\">\n",
       "      <th></th>\n",
       "      <th>tconst</th>\n",
       "      <th>primaryTitle</th>\n",
       "      <th>startYear</th>\n",
       "      <th>endYear</th>\n",
       "      <th>genres</th>\n",
       "      <th>averageRating</th>\n",
       "      <th>numVotes</th>\n",
       "    </tr>\n",
       "  </thead>\n",
       "  <tbody>\n",
       "    <tr>\n",
       "      <th>0</th>\n",
       "      <td>tt0000001</td>\n",
       "      <td>Carmencita</td>\n",
       "      <td>1894</td>\n",
       "      <td>\\N</td>\n",
       "      <td>Documentary,Short</td>\n",
       "      <td>5.7</td>\n",
       "      <td>1725</td>\n",
       "    </tr>\n",
       "    <tr>\n",
       "      <th>1</th>\n",
       "      <td>tt0000002</td>\n",
       "      <td>Le clown et ses chiens</td>\n",
       "      <td>1892</td>\n",
       "      <td>\\N</td>\n",
       "      <td>Animation,Short</td>\n",
       "      <td>6.0</td>\n",
       "      <td>211</td>\n",
       "    </tr>\n",
       "    <tr>\n",
       "      <th>4</th>\n",
       "      <td>tt0000005</td>\n",
       "      <td>Blacksmith Scene</td>\n",
       "      <td>1893</td>\n",
       "      <td>\\N</td>\n",
       "      <td>Comedy,Short</td>\n",
       "      <td>6.2</td>\n",
       "      <td>2288</td>\n",
       "    </tr>\n",
       "    <tr>\n",
       "      <th>5</th>\n",
       "      <td>tt0000006</td>\n",
       "      <td>Chinese Opium Den</td>\n",
       "      <td>1894</td>\n",
       "      <td>\\N</td>\n",
       "      <td>Short</td>\n",
       "      <td>5.1</td>\n",
       "      <td>128</td>\n",
       "    </tr>\n",
       "    <tr>\n",
       "      <th>6</th>\n",
       "      <td>tt0000007</td>\n",
       "      <td>Corbett and Courtney Before the Kinetograph</td>\n",
       "      <td>1894</td>\n",
       "      <td>\\N</td>\n",
       "      <td>Short,Sport</td>\n",
       "      <td>5.4</td>\n",
       "      <td>699</td>\n",
       "    </tr>\n",
       "  </tbody>\n",
       "</table>\n",
       "</div>"
      ],
      "text/plain": [
       "      tconst                                 primaryTitle startYear endYear  \\\n",
       "0  tt0000001                                   Carmencita      1894      \\N   \n",
       "1  tt0000002                       Le clown et ses chiens      1892      \\N   \n",
       "4  tt0000005                             Blacksmith Scene      1893      \\N   \n",
       "5  tt0000006                            Chinese Opium Den      1894      \\N   \n",
       "6  tt0000007  Corbett and Courtney Before the Kinetograph      1894      \\N   \n",
       "\n",
       "              genres  averageRating  numVotes  \n",
       "0  Documentary,Short            5.7      1725  \n",
       "1    Animation,Short            6.0       211  \n",
       "4       Comedy,Short            6.2      2288  \n",
       "5              Short            5.1       128  \n",
       "6        Short,Sport            5.4       699  "
      ]
     },
     "execution_count": 7,
     "metadata": {},
     "output_type": "execute_result"
    }
   ],
   "source": [
    "#filters partial_data_table based on weither the row's title constant can be found in data3\n",
    "#Full_table has all the information (title, genres, averateRating, etc) for only the US productions\n",
    "full_table=partial_table.loc[partial_table[\"tconst\"].isin(data3[\"titleId\"])] \n",
    "full_table.head()"
   ]
  },
  {
   "cell_type": "markdown",
   "id": "d4cbd734",
   "metadata": {},
   "source": [
    "#### Getting the BoxOfficeMojo DataFrame"
   ]
  },
  {
   "cell_type": "markdown",
   "id": "f08edb6c",
   "metadata": {},
   "source": [
    "One nice part about the IMDb data is that it has an API that makes retreiving the movie data and converting it to the correct format (for this tutorial that would be Pandas DataFrames) very straight forward. As you see above, we can download the file directly and then read it in to a Datafreame. However, not all website has that capability. For instance, the BoxOfficeMojo Domestic Yearly Box Office dataset does not API. As a result, we will have to use a technique called Data Scraping. \n",
    "\n",
    "DataScraping is when we must get the all contents of the website, select the sections that we want to put into a DataFrame, clean up that section if needed so it fits the format of a Datframe, and then we can convert it to a DataFrame. In this instance, the desired section would be the the table containing the Domestic Yearly Box Office dataset. "
   ]
  },
  {
   "cell_type": "code",
   "execution_count": 8,
   "id": "e560e5fe",
   "metadata": {},
   "outputs": [],
   "source": [
    "source = rq.get('https://www.boxofficemojo.com/year/?grossesOption=calendarGrosses&sort=year&ref_=bo_yl__resort#table')\n",
    "\n",
    "#gets the structure out of the html text (in form of string)\n",
    "soup = BeautifulSoup(source.text)"
   ]
  },
  {
   "cell_type": "code",
   "execution_count": 9,
   "id": "297d4a98",
   "metadata": {},
   "outputs": [
    {
     "data": {
      "text/html": [
       "<div>\n",
       "<style scoped>\n",
       "    .dataframe tbody tr th:only-of-type {\n",
       "        vertical-align: middle;\n",
       "    }\n",
       "\n",
       "    .dataframe tbody tr th {\n",
       "        vertical-align: top;\n",
       "    }\n",
       "\n",
       "    .dataframe thead th {\n",
       "        text-align: right;\n",
       "    }\n",
       "</style>\n",
       "<table border=\"1\" class=\"dataframe\">\n",
       "  <thead>\n",
       "    <tr style=\"text-align: right;\">\n",
       "      <th></th>\n",
       "      <th>Year</th>\n",
       "      <th>Total Gross</th>\n",
       "      <th>NumberOfReleases</th>\n",
       "      <th>AverageGrossPerRelease</th>\n",
       "      <th>#1 Release</th>\n",
       "    </tr>\n",
       "  </thead>\n",
       "  <tbody>\n",
       "    <tr>\n",
       "      <th>0</th>\n",
       "      <td>2021</td>\n",
       "      <td>$1,411,803,792</td>\n",
       "      <td>230</td>\n",
       "      <td>$6,138,277</td>\n",
       "      <td>F9: The Fast Saga</td>\n",
       "    </tr>\n",
       "    <tr>\n",
       "      <th>1</th>\n",
       "      <td>2020</td>\n",
       "      <td>$2,103,085,767</td>\n",
       "      <td>455</td>\n",
       "      <td>$4,622,166</td>\n",
       "      <td>Bad Boys for Life</td>\n",
       "    </tr>\n",
       "    <tr>\n",
       "      <th>2</th>\n",
       "      <td>2019</td>\n",
       "      <td>$11,320,873,671</td>\n",
       "      <td>911</td>\n",
       "      <td>$12,426,864</td>\n",
       "      <td>Avengers: Endgame</td>\n",
       "    </tr>\n",
       "    <tr>\n",
       "      <th>3</th>\n",
       "      <td>2018</td>\n",
       "      <td>$11,889,341,443</td>\n",
       "      <td>993</td>\n",
       "      <td>$11,973,153</td>\n",
       "      <td>Black Panther</td>\n",
       "    </tr>\n",
       "    <tr>\n",
       "      <th>4</th>\n",
       "      <td>2017</td>\n",
       "      <td>$11,072,815,067</td>\n",
       "      <td>852</td>\n",
       "      <td>$12,996,261</td>\n",
       "      <td>Star Wars: Episode VIII - The Last Jedi</td>\n",
       "    </tr>\n",
       "  </tbody>\n",
       "</table>\n",
       "</div>"
      ],
      "text/plain": [
       "   Year      Total Gross  NumberOfReleases AverageGrossPerRelease  \\\n",
       "0  2021   $1,411,803,792               230             $6,138,277   \n",
       "1  2020   $2,103,085,767               455             $4,622,166   \n",
       "2  2019  $11,320,873,671               911            $12,426,864   \n",
       "3  2018  $11,889,341,443               993            $11,973,153   \n",
       "4  2017  $11,072,815,067               852            $12,996,261   \n",
       "\n",
       "                                #1 Release  \n",
       "0                        F9: The Fast Saga  \n",
       "1                        Bad Boys for Life  \n",
       "2                        Avengers: Endgame  \n",
       "3                            Black Panther  \n",
       "4  Star Wars: Episode VIII - The Last Jedi  "
      ]
     },
     "execution_count": 9,
     "metadata": {},
     "output_type": "execute_result"
    }
   ],
   "source": [
    "#gets the first instance of a table in the BeautifulSoup type since noticed in prettify\n",
    "#that the first table has the desired data\n",
    "table = soup.find('table')\n",
    "\n",
    "#panda reads the table (which is concerted into a string first) and displays the \n",
    "#first, and only, table in the dataframe.\n",
    "movie_gross= pd.read_html(table.prettify())[0]\n",
    "\n",
    "#renames two of the columns to more appropriate names\n",
    "movie_gross=movie_gross.rename(columns={\"Average\": \"AverageGrossPerRelease\", \n",
    "                                     \"Releases\":\"NumberOfReleases\" })\n",
    "\n",
    "#removes the %± LY column since we do not care aout the gross change per year\n",
    "movie_gross=movie_gross.drop(columns=[\"%± LY\"])\n",
    "movie_gross.head()"
   ]
  },
  {
   "cell_type": "markdown",
   "id": "7b8bfb74",
   "metadata": {},
   "source": [
    "Each movie instance/row has the following features/attributes: \n",
    "* Year (int)  – The year the movie was released\n",
    "* Total Gross (object)  – The total gross that movie had that year\n",
    "* NumberOfReleases (int)  – The number of movie theaters it was released in\n",
    "* AverageGrossPerRelease (Object)  – The gross amount per release \n",
    "* #1 Release (Object)  – The name of the movie\n"
   ]
  },
  {
   "cell_type": "markdown",
   "id": "81f5692f",
   "metadata": {},
   "source": [
    "#### Getting the Wikipedia DataFrame"
   ]
  },
  {
   "cell_type": "markdown",
   "id": "e59ecbb4",
   "metadata": {},
   "source": [
    "Just as in the BoxOfficeMojo scraping, we repeat the process with Wikipedia. From the url to the page with the top 100 grossing domestic films we grab the html, search and find all tables, and pull the first table (the one we need). From there we rename the columns and re-index the rows."
   ]
  },
  {
   "cell_type": "code",
   "execution_count": 10,
   "id": "b4ff10c0",
   "metadata": {},
   "outputs": [],
   "source": [
    "source = rq.get('https://en.wikipedia.org/wiki/List_of_highest-grossing_films_in_the_United_States_and_Canada')\n",
    "#gets the structure out of the html text (in form of string)\n",
    "soup = BeautifulSoup(source.text)"
   ]
  },
  {
   "cell_type": "code",
   "execution_count": 11,
   "id": "1a5c5c5a",
   "metadata": {},
   "outputs": [
    {
     "data": {
      "text/html": [
       "<div>\n",
       "<style scoped>\n",
       "    .dataframe tbody tr th:only-of-type {\n",
       "        vertical-align: middle;\n",
       "    }\n",
       "\n",
       "    .dataframe tbody tr th {\n",
       "        vertical-align: top;\n",
       "    }\n",
       "\n",
       "    .dataframe thead th {\n",
       "        text-align: right;\n",
       "    }\n",
       "</style>\n",
       "<table border=\"1\" class=\"dataframe\">\n",
       "  <thead>\n",
       "    <tr style=\"text-align: right;\">\n",
       "      <th></th>\n",
       "      <th>Rank</th>\n",
       "      <th>Title</th>\n",
       "      <th>Initial Gross</th>\n",
       "      <th>Unadjusted Lifetime Gross</th>\n",
       "      <th>Adjusted Lifetime Gross</th>\n",
       "      <th>Year</th>\n",
       "    </tr>\n",
       "  </thead>\n",
       "  <tbody>\n",
       "    <tr>\n",
       "      <th>1</th>\n",
       "      <td>1</td>\n",
       "      <td>Star Wars: The Force Awakens</td>\n",
       "      <td>$936,662,225</td>\n",
       "      <td>$936,662,225</td>\n",
       "      <td>$1,022,662,098</td>\n",
       "      <td>2015</td>\n",
       "    </tr>\n",
       "    <tr>\n",
       "      <th>2</th>\n",
       "      <td>2</td>\n",
       "      <td>Avengers: Endgame</td>\n",
       "      <td>$858,373,000</td>\n",
       "      <td>$858,373,000</td>\n",
       "      <td>$868,875,026</td>\n",
       "      <td>2019</td>\n",
       "    </tr>\n",
       "    <tr>\n",
       "      <th>3</th>\n",
       "      <td>3</td>\n",
       "      <td>Avatar</td>\n",
       "      <td>$749,766,139</td>\n",
       "      <td>$760,507,625</td>\n",
       "      <td>$917,188,852</td>\n",
       "      <td>2009</td>\n",
       "    </tr>\n",
       "    <tr>\n",
       "      <th>4</th>\n",
       "      <td>4</td>\n",
       "      <td>Black Panther</td>\n",
       "      <td>$700,059,566</td>\n",
       "      <td>$700,059,566</td>\n",
       "      <td>$721,489,961</td>\n",
       "      <td>2018</td>\n",
       "    </tr>\n",
       "    <tr>\n",
       "      <th>5</th>\n",
       "      <td>5</td>\n",
       "      <td>Avengers: Infinity War</td>\n",
       "      <td>$678,815,482</td>\n",
       "      <td>$678,815,482</td>\n",
       "      <td>$699,595,548</td>\n",
       "      <td>2018</td>\n",
       "    </tr>\n",
       "  </tbody>\n",
       "</table>\n",
       "</div>"
      ],
      "text/plain": [
       "   Rank                         Title Initial Gross Unadjusted Lifetime Gross  \\\n",
       "1     1  Star Wars: The Force Awakens  $936,662,225              $936,662,225   \n",
       "2     2             Avengers: Endgame  $858,373,000              $858,373,000   \n",
       "3     3                        Avatar  $749,766,139              $760,507,625   \n",
       "4     4                 Black Panther  $700,059,566              $700,059,566   \n",
       "5     5        Avengers: Infinity War  $678,815,482              $678,815,482   \n",
       "\n",
       "  Adjusted Lifetime Gross  Year  \n",
       "1          $1,022,662,098  2015  \n",
       "2            $868,875,026  2019  \n",
       "3            $917,188,852  2009  \n",
       "4            $721,489,961  2018  \n",
       "5            $699,595,548  2018  "
      ]
     },
     "execution_count": 11,
     "metadata": {},
     "output_type": "execute_result"
    }
   ],
   "source": [
    "#gets all instances of tables in the html\n",
    "tables = soup.findAll('table')\n",
    "#gets a list of dataframes made from all the tables in the html\n",
    "dfs = pd.read_html(str(tables))\n",
    "#grabs the first dataframe\n",
    "df = dfs[0]\n",
    "#renames the columns to something more readable and appropriate\n",
    "df.columns = ['Rank', 'Title', 'Initial Gross', 'Unadjusted Lifetime Gross', 'Adjusted Lifetime Gross', 'Year']\n",
    "#re-indexes the rows to match the ranks\n",
    "df.index = range(1, 101)\n",
    "\n",
    "df.head()"
   ]
  },
  {
   "cell_type": "markdown",
   "id": "646bb784",
   "metadata": {},
   "source": [
    "Each movie instance/row has the following features/attributes: \n",
    "* Rank (int)  – The rank out of 100 for highest unadjusted lifetime gross\n",
    "* Title (Object)  – The name of the movie\n",
    "* Initial Gross (Object)  – The gross amount made on first release\n",
    "* Unadjusted Lifetime Gross (Object)  – The lifetime gross unadjusted to inflation\n",
    "* Adjusted Lifetime Gross (Object)  – The lifetime gross adjusted to inflation\n",
    "* Year (int)  – The year the movie was initially released\n"
   ]
  },
  {
   "cell_type": "markdown",
   "id": "b69c4076",
   "metadata": {},
   "source": [
    "#### Processing unavailable fata in the DataFrames\n",
    "It is very important that the data within the dataframe that is unavailable is categorized properly and uniformly.\n",
    "\n",
    "There is no uniform rule on how different databases will represent missing data. Some databases put '-', others write 'NONE', or an empty string. There is an infinite amount of possibilities that databases could use. However, what is important from the data science perspective is how will Pandas interpret those values and having a consensus within the community.\n",
    "\n",
    "In order for Pandas (and the community) to understand that a value is missing, that cell must have one of these values:\n",
    "\n",
    "numpy.NaN (numpy): A number value is not available in a number column\n",
    "numpy.nan (numpy): Same as the above (either one could be use for a missing number)\n",
    "pd.NaT (pandas): A time value in a time column is not available\n",
    "pd.NA (pandas): A general type of value is Not Available\n",
    "None (python): similar to pd.NA\n",
    "Note: Data has an underlying meaning. If something was meant to be s number but turned out not to be, that could be potentially different from it not being available.\n",
    "\n",
    "According to the IMBd website, their databases use ‘\\N’ to denote that a particular field is missing or null for that title/name. These must be converted to an appropriate value from the list above. When looking over the BoxOfficeMojo data manually we can see that there is is no missing data. However, it is always best to do checks just in incase."
   ]
  },
  {
   "cell_type": "code",
   "execution_count": 12,
   "id": "ab6e761f",
   "metadata": {},
   "outputs": [],
   "source": [
    "#replaces all instance of missing values in the full_table \n",
    "#dataframe as replace it with a pd Null or numpy Null value\n",
    "full_table['primaryTitle'].replace({'\\\\N': pd.NA}, inplace=True)\n",
    "full_table['genres'].replace({'\\\\N': pd.NA}, inplace=True)\n",
    "full_table['startYear'].replace({'\\\\N': pd.NaT}, inplace=True) \n",
    "full_table['endYear'].replace({'\\\\N': pd.NaT}, inplace=True)\n",
    "full_table['averageRating'].replace({'\\\\N':np.NaN}, inplace=True)\n",
    "full_table['numVotes'].replace({'\\\\N':np.NaN}, inplace=True)"
   ]
  },
  {
   "cell_type": "code",
   "execution_count": 13,
   "id": "537bfb20",
   "metadata": {},
   "outputs": [],
   "source": [
    "#makes a copy of the full_table data for further top 100 manipulation\n",
    "top_100 = full_table"
   ]
  },
  {
   "cell_type": "code",
   "execution_count": 14,
   "id": "8e074715",
   "metadata": {},
   "outputs": [
    {
     "data": {
      "text/html": [
       "<div>\n",
       "<style scoped>\n",
       "    .dataframe tbody tr th:only-of-type {\n",
       "        vertical-align: middle;\n",
       "    }\n",
       "\n",
       "    .dataframe tbody tr th {\n",
       "        vertical-align: top;\n",
       "    }\n",
       "\n",
       "    .dataframe thead th {\n",
       "        text-align: right;\n",
       "    }\n",
       "</style>\n",
       "<table border=\"1\" class=\"dataframe\">\n",
       "  <thead>\n",
       "    <tr style=\"text-align: right;\">\n",
       "      <th></th>\n",
       "      <th>tconst</th>\n",
       "      <th>title</th>\n",
       "      <th>releaseYear</th>\n",
       "      <th>genres</th>\n",
       "      <th>averageRating</th>\n",
       "      <th>numVotes</th>\n",
       "    </tr>\n",
       "  </thead>\n",
       "  <tbody>\n",
       "    <tr>\n",
       "      <th>0</th>\n",
       "      <td>tt0000001</td>\n",
       "      <td>Carmencita</td>\n",
       "      <td>1894</td>\n",
       "      <td>Documentary,Short</td>\n",
       "      <td>5.7</td>\n",
       "      <td>1725</td>\n",
       "    </tr>\n",
       "    <tr>\n",
       "      <th>1</th>\n",
       "      <td>tt0000002</td>\n",
       "      <td>Le clown et ses chiens</td>\n",
       "      <td>1892</td>\n",
       "      <td>Animation,Short</td>\n",
       "      <td>6.0</td>\n",
       "      <td>211</td>\n",
       "    </tr>\n",
       "    <tr>\n",
       "      <th>4</th>\n",
       "      <td>tt0000005</td>\n",
       "      <td>Blacksmith Scene</td>\n",
       "      <td>1893</td>\n",
       "      <td>Comedy,Short</td>\n",
       "      <td>6.2</td>\n",
       "      <td>2288</td>\n",
       "    </tr>\n",
       "    <tr>\n",
       "      <th>5</th>\n",
       "      <td>tt0000006</td>\n",
       "      <td>Chinese Opium Den</td>\n",
       "      <td>1894</td>\n",
       "      <td>Short</td>\n",
       "      <td>5.1</td>\n",
       "      <td>128</td>\n",
       "    </tr>\n",
       "    <tr>\n",
       "      <th>6</th>\n",
       "      <td>tt0000007</td>\n",
       "      <td>Corbett and Courtney Before the Kinetograph</td>\n",
       "      <td>1894</td>\n",
       "      <td>Short,Sport</td>\n",
       "      <td>5.4</td>\n",
       "      <td>699</td>\n",
       "    </tr>\n",
       "  </tbody>\n",
       "</table>\n",
       "</div>"
      ],
      "text/plain": [
       "      tconst                                        title releaseYear  \\\n",
       "0  tt0000001                                   Carmencita        1894   \n",
       "1  tt0000002                       Le clown et ses chiens        1892   \n",
       "4  tt0000005                             Blacksmith Scene        1893   \n",
       "5  tt0000006                            Chinese Opium Den        1894   \n",
       "6  tt0000007  Corbett and Courtney Before the Kinetograph        1894   \n",
       "\n",
       "              genres  averageRating  numVotes  \n",
       "0  Documentary,Short            5.7      1725  \n",
       "1    Animation,Short            6.0       211  \n",
       "4       Comedy,Short            6.2      2288  \n",
       "5              Short            5.1       128  \n",
       "6        Short,Sport            5.4       699  "
      ]
     },
     "execution_count": 14,
     "metadata": {},
     "output_type": "execute_result"
    }
   ],
   "source": [
    "#gets the rows where the endYear is a null value\n",
    "full_table=full_table[full_table['endYear'].isna()]\n",
    "\n",
    "#removes the endYear column since it is no longer needed\n",
    "full_table=full_table.drop(columns=['endYear'])\n",
    "\n",
    "#renames two of the columns to more appropriate names\n",
    "full_table=full_table.rename(columns={\"primaryTitle\": \"title\", \"startYear\": \"releaseYear\"})\n",
    "\n",
    "full_table.head()"
   ]
  },
  {
   "cell_type": "code",
   "execution_count": 15,
   "id": "744c9312",
   "metadata": {},
   "outputs": [
    {
     "data": {
      "text/html": [
       "<div>\n",
       "<style scoped>\n",
       "    .dataframe tbody tr th:only-of-type {\n",
       "        vertical-align: middle;\n",
       "    }\n",
       "\n",
       "    .dataframe tbody tr th {\n",
       "        vertical-align: top;\n",
       "    }\n",
       "\n",
       "    .dataframe thead th {\n",
       "        text-align: right;\n",
       "    }\n",
       "</style>\n",
       "<table border=\"1\" class=\"dataframe\">\n",
       "  <thead>\n",
       "    <tr style=\"text-align: right;\">\n",
       "      <th></th>\n",
       "      <th>tconst</th>\n",
       "      <th>Title</th>\n",
       "      <th>Year</th>\n",
       "      <th>Genres</th>\n",
       "      <th>Average Rating</th>\n",
       "      <th>Number of Votes</th>\n",
       "    </tr>\n",
       "  </thead>\n",
       "  <tbody>\n",
       "    <tr>\n",
       "      <th>0</th>\n",
       "      <td>tt0000001</td>\n",
       "      <td>Carmencita</td>\n",
       "      <td>1894</td>\n",
       "      <td>Documentary,Short</td>\n",
       "      <td>5.7</td>\n",
       "      <td>1725</td>\n",
       "    </tr>\n",
       "    <tr>\n",
       "      <th>1</th>\n",
       "      <td>tt0000002</td>\n",
       "      <td>Le clown et ses chiens</td>\n",
       "      <td>1892</td>\n",
       "      <td>Animation,Short</td>\n",
       "      <td>6.0</td>\n",
       "      <td>211</td>\n",
       "    </tr>\n",
       "    <tr>\n",
       "      <th>4</th>\n",
       "      <td>tt0000005</td>\n",
       "      <td>Blacksmith Scene</td>\n",
       "      <td>1893</td>\n",
       "      <td>Comedy,Short</td>\n",
       "      <td>6.2</td>\n",
       "      <td>2288</td>\n",
       "    </tr>\n",
       "    <tr>\n",
       "      <th>5</th>\n",
       "      <td>tt0000006</td>\n",
       "      <td>Chinese Opium Den</td>\n",
       "      <td>1894</td>\n",
       "      <td>Short</td>\n",
       "      <td>5.1</td>\n",
       "      <td>128</td>\n",
       "    </tr>\n",
       "    <tr>\n",
       "      <th>6</th>\n",
       "      <td>tt0000007</td>\n",
       "      <td>Corbett and Courtney Before the Kinetograph</td>\n",
       "      <td>1894</td>\n",
       "      <td>Short,Sport</td>\n",
       "      <td>5.4</td>\n",
       "      <td>699</td>\n",
       "    </tr>\n",
       "  </tbody>\n",
       "</table>\n",
       "</div>"
      ],
      "text/plain": [
       "      tconst                                        Title  Year  \\\n",
       "0  tt0000001                                   Carmencita  1894   \n",
       "1  tt0000002                       Le clown et ses chiens  1892   \n",
       "4  tt0000005                             Blacksmith Scene  1893   \n",
       "5  tt0000006                            Chinese Opium Den  1894   \n",
       "6  tt0000007  Corbett and Courtney Before the Kinetograph  1894   \n",
       "\n",
       "              Genres  Average Rating  Number of Votes  \n",
       "0  Documentary,Short             5.7             1725  \n",
       "1    Animation,Short             6.0              211  \n",
       "4       Comedy,Short             6.2             2288  \n",
       "5              Short             5.1              128  \n",
       "6        Short,Sport             5.4              699  "
      ]
     },
     "execution_count": 15,
     "metadata": {},
     "output_type": "execute_result"
    }
   ],
   "source": [
    "#removes the endYear column since it is not needed\n",
    "top_100 = top_100.drop(columns=['endYear'])\n",
    "\n",
    "#renames columns to more appropriate names\n",
    "top_100.columns = ['tconst', 'Title', 'Year', 'Genres', 'Average Rating', 'Number of Votes']\n",
    "\n",
    "top_100.head()"
   ]
  },
  {
   "cell_type": "markdown",
   "id": "38b7ed06",
   "metadata": {},
   "source": [
    "We are removing the rows that don't have a null value in the endYear column because, as noted on the IMDb api website, when an endYear is provided that means it is a tv series, not a movie. Since we only care about movies, the information about TV series' is irrevalant and should be deleted to prevent possible future errors. For the top 100 dataset, we don't have to worry about TV series' being included or not since we will match out the top 100 movies regardless of other entries."
   ]
  },
  {
   "cell_type": "markdown",
   "id": "127a6b9b",
   "metadata": {},
   "source": [
    "#### Converting the types of the columns\n",
    "\n",
    "In order to do the graphing and analysis, it is important that the data is in the 'correct' type. By 'correct', we mean a type that makes sense according to what the data represents and according the expectation of other Data Scientist/evaluators/contributers to your work. \n",
    "\n",
    "Now what is a type in Data Science? It is definitely not the same thing as a type (int, float, string, etc) in general computer science. A type in Data Science is divided into 2 main categories (Categorical and Numeric) and 4 sub categories:\n",
    "\n",
    "* Nominal (Categorical): This is abstract categorical data and is a finite set (ie. 5 soda flavors, marital status). There is no way to compare between Nominal data type and thus there is no order to the set (you can't say scientifically that one is 'better'/'greater' than the other). One can say that you can order anything and that is true! But we define if we can order it or not depending on if the ordering would have meaning where how/why the data is used is being considered. Ordering nominal data would have no meaning.\n",
    "\n",
    "* Ordinal (Categorical): It is like Nominal but now the items in the set can be put in sometype of meaningful order. One example would the days of of one week. Since the duration of the data is during one week we can say the the data of Tuesday is before Wednesday, Saturday is after Friday and so on. But if was on a span of multiple weeks then that would not be possible. Another example would be rating a teacher boring, neutral, or exciting. Although now there is an order to the data, there is no mathmatical way of measuring the distance bewteeen the categories.\n",
    "\n",
    "* Interval (Numeric): Now the data is like Oridinal since it has ordering but it also has a way of measuring distance between the ctaegories. Two examples are grade levels or temperature. However, this data doesn't make sense in terms of fractions/ratios (imagine being in grade 3/grade 5!).\n",
    "\n",
    "* Ratio (Numeric): It is similar to Interval data but now ratios between the values are meaningful and there is a meaningful zero value. You can think of it as categorical data with order, distance, and ratios. Some examples would be tear ratings in stars and measurements in miles. \n",
    " \n",
    "Using those descriptions you will be able to determine which type (now using the general Computer Science definition) the data should be. Originally, most of the data we got was in the type Object - which is best for categorial data. However, by looking at the data, we knew that select columns should be Ratio or Interval data types instead (int, floats, long, etc). If we kept them as objects, that would have lead to major confusion later on in the pipeline.\n"
   ]
  },
  {
   "cell_type": "code",
   "execution_count": 16,
   "id": "f4c78e50",
   "metadata": {},
   "outputs": [
    {
     "data": {
      "text/html": [
       "<div>\n",
       "<style scoped>\n",
       "    .dataframe tbody tr th:only-of-type {\n",
       "        vertical-align: middle;\n",
       "    }\n",
       "\n",
       "    .dataframe tbody tr th {\n",
       "        vertical-align: top;\n",
       "    }\n",
       "\n",
       "    .dataframe thead th {\n",
       "        text-align: right;\n",
       "    }\n",
       "</style>\n",
       "<table border=\"1\" class=\"dataframe\">\n",
       "  <thead>\n",
       "    <tr style=\"text-align: right;\">\n",
       "      <th></th>\n",
       "      <th>tconst</th>\n",
       "      <th>title</th>\n",
       "      <th>releaseYear</th>\n",
       "      <th>genres</th>\n",
       "      <th>averageRating</th>\n",
       "      <th>numVotes</th>\n",
       "    </tr>\n",
       "  </thead>\n",
       "  <tbody>\n",
       "    <tr>\n",
       "      <th>450183</th>\n",
       "      <td>tt10156586</td>\n",
       "      <td>Snow Black</td>\n",
       "      <td>2021</td>\n",
       "      <td>Action</td>\n",
       "      <td>2.3</td>\n",
       "      <td>70</td>\n",
       "    </tr>\n",
       "    <tr>\n",
       "      <th>612720</th>\n",
       "      <td>tt13837022</td>\n",
       "      <td>Hot Money</td>\n",
       "      <td>2021</td>\n",
       "      <td>Documentary</td>\n",
       "      <td>5.8</td>\n",
       "      <td>120</td>\n",
       "    </tr>\n",
       "    <tr>\n",
       "      <th>612832</th>\n",
       "      <td>tt13839188</td>\n",
       "      <td>Designed with Love</td>\n",
       "      <td>2021</td>\n",
       "      <td>Romance</td>\n",
       "      <td>6.1</td>\n",
       "      <td>180</td>\n",
       "    </tr>\n",
       "    <tr>\n",
       "      <th>612852</th>\n",
       "      <td>tt13839612</td>\n",
       "      <td>Strictly for the Streets: Vol 1.</td>\n",
       "      <td>2021</td>\n",
       "      <td>Drama</td>\n",
       "      <td>9.4</td>\n",
       "      <td>110</td>\n",
       "    </tr>\n",
       "    <tr>\n",
       "      <th>612870</th>\n",
       "      <td>tt13840726</td>\n",
       "      <td>Wendy Williams: What a Mess!</td>\n",
       "      <td>2021</td>\n",
       "      <td>Biography,Documentary</td>\n",
       "      <td>6.4</td>\n",
       "      <td>166</td>\n",
       "    </tr>\n",
       "  </tbody>\n",
       "</table>\n",
       "</div>"
      ],
      "text/plain": [
       "            tconst                             title  releaseYear  \\\n",
       "450183  tt10156586                        Snow Black         2021   \n",
       "612720  tt13837022                         Hot Money         2021   \n",
       "612832  tt13839188                Designed with Love         2021   \n",
       "612852  tt13839612  Strictly for the Streets: Vol 1.         2021   \n",
       "612870  tt13840726      Wendy Williams: What a Mess!         2021   \n",
       "\n",
       "                       genres  averageRating  numVotes  \n",
       "450183                 Action            2.3        70  \n",
       "612720            Documentary            5.8       120  \n",
       "612832                Romance            6.1       180  \n",
       "612852                  Drama            9.4       110  \n",
       "612870  Biography,Documentary            6.4       166  "
      ]
     },
     "execution_count": 16,
     "metadata": {},
     "output_type": "execute_result"
    }
   ],
   "source": [
    "#converts the releaseYear, numVotes to int types and  averageRating to float type\n",
    "full_table[\"releaseYear\"] = full_table[\"releaseYear\"].astype('int64')\n",
    "full_table[\"averageRating\"] = full_table[\"averageRating\"].astype(float)\n",
    "full_table[\"numVotes\"] = full_table[\"numVotes\"].astype(int)\n",
    "top_100['Year'] = top_100['Year'].astype('int64')\n",
    "top_100['Average Rating'] = top_100['Average Rating'].astype(float)\n",
    "top_100['Number of Votes'] = top_100['Number of Votes'].astype(int)\n",
    "\n",
    "#sorts the table in descending order occrding to the release Year\n",
    "full_table = full_table.sort_values(by=['releaseYear'], ascending=False)\n",
    "top_100 = top_100.sort_values(by=['Year'], ascending=False)\n",
    "\n",
    "full_table.head()"
   ]
  },
  {
   "cell_type": "markdown",
   "id": "62f67ba9",
   "metadata": {},
   "source": [
    "Each column now has the following type:\n",
    "* tconst  – object \n",
    "* title  – object   \n",
    "* releaseYear  – int\n",
    "* genres  – object\n",
    "* averageRating  – float\n",
    "* numVotes  – int"
   ]
  },
  {
   "cell_type": "code",
   "execution_count": 17,
   "id": "9759f91b",
   "metadata": {},
   "outputs": [
    {
     "data": {
      "text/html": [
       "<div>\n",
       "<style scoped>\n",
       "    .dataframe tbody tr th:only-of-type {\n",
       "        vertical-align: middle;\n",
       "    }\n",
       "\n",
       "    .dataframe tbody tr th {\n",
       "        vertical-align: top;\n",
       "    }\n",
       "\n",
       "    .dataframe thead th {\n",
       "        text-align: right;\n",
       "    }\n",
       "</style>\n",
       "<table border=\"1\" class=\"dataframe\">\n",
       "  <thead>\n",
       "    <tr style=\"text-align: right;\">\n",
       "      <th></th>\n",
       "      <th>Year</th>\n",
       "      <th>Total Gross</th>\n",
       "      <th>NumberOfReleases</th>\n",
       "      <th>AverageGrossPerRelease</th>\n",
       "      <th>#1 Release</th>\n",
       "    </tr>\n",
       "  </thead>\n",
       "  <tbody>\n",
       "    <tr>\n",
       "      <th>0</th>\n",
       "      <td>2021</td>\n",
       "      <td>1411803792</td>\n",
       "      <td>230</td>\n",
       "      <td>6138277</td>\n",
       "      <td>F9: The Fast Saga</td>\n",
       "    </tr>\n",
       "    <tr>\n",
       "      <th>1</th>\n",
       "      <td>2020</td>\n",
       "      <td>2103085767</td>\n",
       "      <td>455</td>\n",
       "      <td>4622166</td>\n",
       "      <td>Bad Boys for Life</td>\n",
       "    </tr>\n",
       "    <tr>\n",
       "      <th>2</th>\n",
       "      <td>2019</td>\n",
       "      <td>11320873671</td>\n",
       "      <td>911</td>\n",
       "      <td>12426864</td>\n",
       "      <td>Avengers: Endgame</td>\n",
       "    </tr>\n",
       "    <tr>\n",
       "      <th>3</th>\n",
       "      <td>2018</td>\n",
       "      <td>11889341443</td>\n",
       "      <td>993</td>\n",
       "      <td>11973153</td>\n",
       "      <td>Black Panther</td>\n",
       "    </tr>\n",
       "    <tr>\n",
       "      <th>4</th>\n",
       "      <td>2017</td>\n",
       "      <td>11072815067</td>\n",
       "      <td>852</td>\n",
       "      <td>12996261</td>\n",
       "      <td>Star Wars: Episode VIII - The Last Jedi</td>\n",
       "    </tr>\n",
       "  </tbody>\n",
       "</table>\n",
       "</div>"
      ],
      "text/plain": [
       "   Year  Total Gross  NumberOfReleases  AverageGrossPerRelease  \\\n",
       "0  2021   1411803792               230                 6138277   \n",
       "1  2020   2103085767               455                 4622166   \n",
       "2  2019  11320873671               911                12426864   \n",
       "3  2018  11889341443               993                11973153   \n",
       "4  2017  11072815067               852                12996261   \n",
       "\n",
       "                                #1 Release  \n",
       "0                        F9: The Fast Saga  \n",
       "1                        Bad Boys for Life  \n",
       "2                        Avengers: Endgame  \n",
       "3                            Black Panther  \n",
       "4  Star Wars: Episode VIII - The Last Jedi  "
      ]
     },
     "execution_count": 17,
     "metadata": {},
     "output_type": "execute_result"
    }
   ],
   "source": [
    "#converts the Year, Total Gross, NumberOfReleases, and AverageGrossPerRelease to int types\n",
    "movie_gross[\"NumberOfReleases\"]= movie_gross[\"NumberOfReleases\"].astype(int)\n",
    "movie_gross[\"Year\"]= movie_gross[\"Year\"].astype(int)\n",
    "movie_gross[\"Total Gross\"]= [int(x[1:].replace(\",\", \"\")) if pd.notnull(x) else x for x in movie_gross[\"Total Gross\"]]\n",
    "movie_gross[\"AverageGrossPerRelease\"]= [int(x[1:].replace(\",\", \"\")) if pd.notnull(x) else x for x in movie_gross[\"AverageGrossPerRelease\"]]\n",
    "\n",
    "#sorts the table in descending order occrding to the Year\n",
    "movie_gross = movie_gross.sort_values(by=['Year'], ascending=False)\n",
    "movie_gross.head()"
   ]
  },
  {
   "cell_type": "markdown",
   "id": "66c3bc91",
   "metadata": {},
   "source": [
    "Each column now has the following type:\n",
    "* Year  – int\n",
    "* Total Gross  – int  \n",
    "* NumberOfReleases  – int\n",
    "* AverageGrossPerRelease  – int\n",
    "* #1 Release  – Object"
   ]
  },
  {
   "cell_type": "markdown",
   "id": "c3c761ed",
   "metadata": {},
   "source": [
    "#### Reducing the data to 1960 and later \n",
    "\n",
    "As stated earlier, it was neccesary for us to restrict the data to 1960 and later due to time constrants. The top 100 table is restricted further due to no movies made before 1977 belonging to the dataset. If given more time then it might have been benefical to explore the entire data set or even compare between the movie eras. "
   ]
  },
  {
   "cell_type": "code",
   "execution_count": 18,
   "id": "3d79aae1",
   "metadata": {},
   "outputs": [],
   "source": [
    "#removes the rows from both dataframes that have a releaseYear/Year value later then 1960\n",
    "full_table = full_table[full_table[\"releaseYear\"] >1959]\n",
    "movie_gross = movie_gross[movie_gross[\"Year\"] >1959]\n",
    "top_100 = top_100[top_100['Year'] > 1976]"
   ]
  },
  {
   "cell_type": "markdown",
   "id": "786e0701",
   "metadata": {},
   "source": [
    "#### Further top 100 manipulation\n",
    "\n",
    "In order to best utilize all the data available to us, we needed to match and pull the information of the top 100 movies from our dataset of all movies."
   ]
  },
  {
   "cell_type": "code",
   "execution_count": 19,
   "id": "53dea314",
   "metadata": {},
   "outputs": [],
   "source": [
    "#sort the values by tconst to consistently match the same movie (there are duplicates with different ids in the set)\n",
    "top_100 = top_100.sort_values(by=['tconst'], ascending=False)\n",
    "#make a temp dataframe to store the matched movies\n",
    "temp = pd.DataFrame(columns=['tconst', 'Title', 'Year', 'Genres', 'Average Rating', 'Number of Votes'])\n",
    "#find and store the top 100 movies from the dataset\n",
    "for n, r in df.iterrows():\n",
    "    t = top_100.loc[(top_100['Title'] == r['Title']) & (top_100['Year'] == r['Year'])]\n",
    "    temp = temp.append(t)\n",
    "\n",
    "#remove duplicate entries\n",
    "temp = temp.sort_values(by=['Number of Votes'], ascending=False)\n",
    "temp.drop_duplicates(subset=['Title'], keep='first', inplace=True)"
   ]
  },
  {
   "cell_type": "markdown",
   "id": "429348d7",
   "metadata": {},
   "source": [
    "In the large dataset of all the movies from 1977 onward, there are many duplicate entries. The best way we found to sort out the duplicates was looking at the number of votes cast for the movie. A top 100 grossing film wouldn't have a couple hundred votes but rather several thousand. By sorting the data by the number of votes and removing all but the first duplicate, we can ensure that we are keeping the right entry.\n",
    "\n",
    "This same strategy is employed below. Because the titles of some movies don't match between the two datasets, we had to manually find the movies that were missing from the top 100. In our case, 4 movies matched the title but had far too few votes to have been the main/real entry from the imdb dataset. In these cases, we removed the entries from the table and found the correct entry before adding it back to the table."
   ]
  },
  {
   "cell_type": "code",
   "execution_count": 20,
   "id": "53c2e340",
   "metadata": {},
   "outputs": [],
   "source": [
    "#removes the four \"false\" entries\n",
    "temp = temp.drop(temp.loc[temp['tconst'] == 'tt1043740'].index)\n",
    "temp = temp.drop(temp.loc[temp['tconst'] == 'tt2301123'].index)\n",
    "temp = temp.drop(temp.loc[temp['tconst'] == 'tt6495412'].index)\n",
    "temp = temp.drop(temp.loc[temp['tconst'] == 'tt7767902'].index)\n",
    "\n",
    "#adds the \"real\" movie entries and any missing films that weren't matched\n",
    "l = ['tt0926084', 'tt1201607', 'tt0449088', 'tt0325980', 'tt0086190', 'tt6320628', 'tt0076759', 'tt0120915', 'tt0121765', 'tt0121766', 'tt2488496', 'tt2527336', 'tt2527338', 'tt0080684', 'tt1951265', 'tt6105098', 'tt1673434']\n",
    "for e in l:\n",
    "    t = top_100.loc[top_100['tconst'] == e]\n",
    "    temp = temp.append(t)"
   ]
  },
  {
   "cell_type": "markdown",
   "id": "18962e83",
   "metadata": {},
   "source": [
    "After making sure all 100 films (that matched the Wikipedia dataset) were included in the table, we corrected the titles of a few films to match the Wikipedia dataset exactly (when sorting by 'Title', the movies would appear in a different order due to the differences in name)."
   ]
  },
  {
   "cell_type": "code",
   "execution_count": 21,
   "id": "85cd78d2",
   "metadata": {},
   "outputs": [],
   "source": [
    "temp.at[temp.loc[temp['tconst'] == 'tt0449088'].index, 'Title'] = \"Pirates of the Caribbean: At World's End\"\n",
    "temp.at[temp.loc[temp['tconst'] == 'tt0325980'].index, 'Title'] = \"Pirates of the Caribbean: The Curse of the Black Pearl\"\n",
    "temp.at[temp.loc[temp['tconst'] == 'tt0086190'].index, 'Title'] = \"Return of the Jedi\"\n",
    "temp.at[temp.loc[temp['tconst'] == 'tt2488496'].index, 'Title'] = \"Star Wars: The Force Awakens\"\n",
    "temp.at[temp.loc[temp['tconst'] == 'tt2527336'].index, 'Title'] = \"Star Wars: The Last Jedi\"\n",
    "temp.at[temp.loc[temp['tconst'] == 'tt2527338'].index, 'Title'] = \"Star Wars: The Rise of Skywalker\"\n",
    "temp.at[temp.loc[temp['tconst'] == 'tt0076759'].index, 'Title'] = \"Star Wars\"\n",
    "temp.at[temp.loc[temp['tconst'] == 'tt0080684'].index, 'Title'] = \"The Empire Strikes Back\""
   ]
  },
  {
   "cell_type": "markdown",
   "id": "4bb01133",
   "metadata": {},
   "source": [
    "The next step in this process was to add the additional data to the Wikipedia table. We chose not to use join in this instance because we only needed 3 of the columns from the imdb dataset and there were still small differences in the movie titles due to different uses of punctuation."
   ]
  },
  {
   "cell_type": "code",
   "execution_count": 22,
   "id": "c8678f1c",
   "metadata": {},
   "outputs": [
    {
     "data": {
      "text/html": [
       "<div>\n",
       "<style scoped>\n",
       "    .dataframe tbody tr th:only-of-type {\n",
       "        vertical-align: middle;\n",
       "    }\n",
       "\n",
       "    .dataframe tbody tr th {\n",
       "        vertical-align: top;\n",
       "    }\n",
       "\n",
       "    .dataframe thead th {\n",
       "        text-align: right;\n",
       "    }\n",
       "</style>\n",
       "<table border=\"1\" class=\"dataframe\">\n",
       "  <thead>\n",
       "    <tr style=\"text-align: right;\">\n",
       "      <th></th>\n",
       "      <th>Rank</th>\n",
       "      <th>Title</th>\n",
       "      <th>Initial Gross</th>\n",
       "      <th>Unadjusted Lifetime Gross</th>\n",
       "      <th>Adjusted Lifetime Gross</th>\n",
       "      <th>Year</th>\n",
       "      <th>Rating</th>\n",
       "      <th>Number of Votes</th>\n",
       "      <th>Genres</th>\n",
       "    </tr>\n",
       "  </thead>\n",
       "  <tbody>\n",
       "    <tr>\n",
       "      <th>1</th>\n",
       "      <td>1</td>\n",
       "      <td>Star Wars: The Force Awakens</td>\n",
       "      <td>$936,662,225</td>\n",
       "      <td>$936,662,225</td>\n",
       "      <td>$1,022,662,098</td>\n",
       "      <td>2015</td>\n",
       "      <td>7.8</td>\n",
       "      <td>875947</td>\n",
       "      <td>Action,Adventure,Sci-Fi</td>\n",
       "    </tr>\n",
       "    <tr>\n",
       "      <th>2</th>\n",
       "      <td>2</td>\n",
       "      <td>Avengers: Endgame</td>\n",
       "      <td>$858,373,000</td>\n",
       "      <td>$858,373,000</td>\n",
       "      <td>$868,875,026</td>\n",
       "      <td>2019</td>\n",
       "      <td>8.4</td>\n",
       "      <td>901486</td>\n",
       "      <td>Action,Adventure,Drama</td>\n",
       "    </tr>\n",
       "    <tr>\n",
       "      <th>3</th>\n",
       "      <td>3</td>\n",
       "      <td>Avatar</td>\n",
       "      <td>$749,766,139</td>\n",
       "      <td>$760,507,625</td>\n",
       "      <td>$917,188,852</td>\n",
       "      <td>2009</td>\n",
       "      <td>7.8</td>\n",
       "      <td>1143547</td>\n",
       "      <td>Action,Adventure,Fantasy</td>\n",
       "    </tr>\n",
       "    <tr>\n",
       "      <th>4</th>\n",
       "      <td>4</td>\n",
       "      <td>Black Panther</td>\n",
       "      <td>$700,059,566</td>\n",
       "      <td>$700,059,566</td>\n",
       "      <td>$721,489,961</td>\n",
       "      <td>2018</td>\n",
       "      <td>7.3</td>\n",
       "      <td>660394</td>\n",
       "      <td>Action,Adventure,Sci-Fi</td>\n",
       "    </tr>\n",
       "    <tr>\n",
       "      <th>5</th>\n",
       "      <td>5</td>\n",
       "      <td>Avengers: Infinity War</td>\n",
       "      <td>$678,815,482</td>\n",
       "      <td>$678,815,482</td>\n",
       "      <td>$699,595,548</td>\n",
       "      <td>2018</td>\n",
       "      <td>8.4</td>\n",
       "      <td>896117</td>\n",
       "      <td>Action,Adventure,Sci-Fi</td>\n",
       "    </tr>\n",
       "  </tbody>\n",
       "</table>\n",
       "</div>"
      ],
      "text/plain": [
       "   Rank                         Title Initial Gross Unadjusted Lifetime Gross  \\\n",
       "1     1  Star Wars: The Force Awakens  $936,662,225              $936,662,225   \n",
       "2     2             Avengers: Endgame  $858,373,000              $858,373,000   \n",
       "3     3                        Avatar  $749,766,139              $760,507,625   \n",
       "4     4                 Black Panther  $700,059,566              $700,059,566   \n",
       "5     5        Avengers: Infinity War  $678,815,482              $678,815,482   \n",
       "\n",
       "  Adjusted Lifetime Gross  Year  Rating Number of Votes  \\\n",
       "1          $1,022,662,098  2015     7.8          875947   \n",
       "2            $868,875,026  2019     8.4          901486   \n",
       "3            $917,188,852  2009     7.8         1143547   \n",
       "4            $721,489,961  2018     7.3          660394   \n",
       "5            $699,595,548  2018     8.4          896117   \n",
       "\n",
       "                     Genres  \n",
       "1   Action,Adventure,Sci-Fi  \n",
       "2    Action,Adventure,Drama  \n",
       "3  Action,Adventure,Fantasy  \n",
       "4   Action,Adventure,Sci-Fi  \n",
       "5   Action,Adventure,Sci-Fi  "
      ]
     },
     "execution_count": 22,
     "metadata": {},
     "output_type": "execute_result"
    }
   ],
   "source": [
    "#sort both tables by 'Title'\n",
    "temp = temp.sort_values(by=['Title'])\n",
    "df = df.sort_values(by=['Title'])\n",
    "#adds the ratings, number of votes, and genres to the wikipedia dataset\n",
    "df['Rating'] = temp['Average Rating'].values\n",
    "df['Number of Votes'] = temp['Number of Votes'].values\n",
    "df['Genres'] = temp['Genres'].values\n",
    "#sorts the wikipedia dataset by its original rank\n",
    "df = df.sort_values(by=['Rank'])\n",
    "df.head()"
   ]
  },
  {
   "cell_type": "markdown",
   "id": "26ded684",
   "metadata": {},
   "source": [
    "The final step in preparing this data for analysis was removing the punctutation and symbols from the lifetime grosses for easy use in plotting."
   ]
  },
  {
   "cell_type": "code",
   "execution_count": 23,
   "id": "722d019e",
   "metadata": {},
   "outputs": [],
   "source": [
    "#removes commas and dollar signs from lifetime gross entries\n",
    "df[\"Unadjusted Lifetime Gross\"]= [int(x[1:].replace(\",\", \"\")) if pd.notnull(x) else x for x in df[\"Unadjusted Lifetime Gross\"]]\n",
    "df[\"Adjusted Lifetime Gross\"]= [int(x[1:].replace(\",\", \"\")) if pd.notnull(x) else x for x in df[\"Adjusted Lifetime Gross\"]]"
   ]
  },
  {
   "cell_type": "markdown",
   "id": "bb5956e8",
   "metadata": {},
   "source": [
    "## Exploratory Anaylsis and Data Visualization \n",
    "\n",
    "As mentioned earlier, the Exploratory Analysis and Data Visualization phase is centered around exploring the data, seeing what looks interesting, and getting a better understanding of what should be further looked into. This also allows the Data Scientist to try and see if there are any patterns within the data. In order to do that, this phase ususally involves a lot of visualizations since the human brain is very good at detecting patterns. There should not be any conclusions within this stage, only seeing what should be explored further on in the pipeline. \n",
    "\n",
    "Below you will see some of the exploratory paths we took with the movie data when in this stage of the pipeline."
   ]
  },
  {
   "cell_type": "code",
   "execution_count": 24,
   "id": "8c71eca9",
   "metadata": {},
   "outputs": [
    {
     "data": {
      "image/png": "[encoded data removed]",
      "text/plain": [
       "<Figure size 800x720 with 1 Axes>"
      ]
     },
     "metadata": {
      "needs_background": "light"
     },
     "output_type": "display_data"
    }
   ],
   "source": [
    "plt.rcParams.update({'font.size': 10}) #sets size of labels/title \n",
    "figure(figsize=(10, 9), dpi=80) #sets the figure/graph size\n",
    "\n",
    "#creates scatterplot with ratings as x values and adjusted lifetime gross as y values \n",
    "ax=sns.scatterplot(x='Rating', y='Adjusted Lifetime Gross', data=df) \n",
    "\n",
    "plt.xlabel('Average Viewer Rating') #x label\n",
    "plt.ylabel('Lifetime Gross Adjusted For Inflation') #y label\n",
    "plt.title(\"Viewever Rating vs. Adjusted Lifetime Gross\") #makes title\n",
    "\n",
    "plt.show()"
   ]
  },
  {
   "cell_type": "markdown",
   "id": "f9118726",
   "metadata": {},
   "source": [
    "When trying to compare the lifetime gross of a film to its rating, we don't seem to find a correlation. We had thought that maybe movies with a higher earning also earned a higher rating, but that seems to be untrue. There are too many films with similar earnings that got widely different ratings."
   ]
  },
  {
   "cell_type": "code",
   "execution_count": 25,
   "id": "923ad319",
   "metadata": {},
   "outputs": [
    {
     "data": {
      "image/png": "[encoded data removed]",
      "text/plain": [
       "<Figure size 800x720 with 1 Axes>"
      ]
     },
     "metadata": {
      "needs_background": "light"
     },
     "output_type": "display_data"
    }
   ],
   "source": [
    "plt.rcParams.update({'font.size': 10}) #sets size of labels/title \n",
    "figure(figsize=(10, 9), dpi=80) #sets the figure/graph size\n",
    "\n",
    "#creates scatterplot with number of votes as x values and adjusted lifetime gross as y values \n",
    "ax=sns.scatterplot(x='Number of Votes', y='Adjusted Lifetime Gross', data=df) \n",
    "\n",
    "plt.xlabel('Number of Votes') #x label\n",
    "plt.ylabel('Adjusted Lifetime Gross') #y label\n",
    "plt.title(\"Number of Votes vs. Adjusted Lifetime Gross\") #makes title\n",
    "\n",
    "plt.show()"
   ]
  },
  {
   "cell_type": "markdown",
   "id": "db9decac",
   "metadata": {},
   "source": [
    "Following a similar idea as above, we compared the lifetime gross of a film to the number of votes towards its rating it got. Much as the first graph, we find there's no correlation between the two. There have been movies earning on the lower end with thousand upon thousands of votes while movies with similar earnings receive far fewer votes.\n",
    "\n",
    "This path seems to be a dead end. But out of pure curiosity, lets compare the rating a movie gets and the number of votes it received."
   ]
  },
  {
   "cell_type": "code",
   "execution_count": 26,
   "id": "06f50ca1",
   "metadata": {},
   "outputs": [
    {
     "data": {
      "image/png": "[encoded data removed]",
      "text/plain": [
       "<Figure size 800x720 with 1 Axes>"
      ]
     },
     "metadata": {
      "needs_background": "light"
     },
     "output_type": "display_data"
    }
   ],
   "source": [
    "plt.rcParams.update({'font.size': 10}) #sets size of labels/title \n",
    "figure(figsize=(10, 9), dpi=80) #sets the figure/graph size\n",
    "\n",
    "#creates scatterplot with ratings as x values and number of votes as y values \n",
    "ax=sns.scatterplot(x='Rating', y='Number of Votes', data=df) \n",
    "\n",
    "plt.xlabel('Average Viewer Rating') #x label\n",
    "plt.ylabel('Number of Votes') #y label\n",
    "plt.title(\"Viewever Rating vs. Number of Votes\") #makes title\n",
    "\n",
    "plt.show()"
   ]
  },
  {
   "cell_type": "markdown",
   "id": "400cb90f",
   "metadata": {},
   "source": [
    "A correlation! As you can see, there seems to be a trend bewteen the number of votes a movie received and the average rating it earned. This doesn't necessarily mean that getting more votes gets a movie a higher rating. The average rating is the average of every vote so if a movie with one million plus votes has a high rating, a large quantity of those people rated that movie fairly highly. This leads us to beleive that the quality of a movie incentivizes people to leave reviews and rate the movie. If a movie was incredibly good, people would want to vote for the movie and encourage others to see it (thereby leaving a good rating). The opposite is true as well, with those seeing bad films probably choosing not to spend any more of their time on the movie by voting for it (or rather against it). As we saw in the previous graphs, the amount of money a movie made doesn't guarantee a high rating; plenty of bad movies made lots of money. But it seems that the good movies motivate people to leave a good review and recommend it to others while bad movies discourage that same tendency."
   ]
  },
  {
   "cell_type": "code",
   "execution_count": 27,
   "id": "0a9d6012",
   "metadata": {},
   "outputs": [
    {
     "data": {
      "image/png": "[encoded data removed]",
      "text/plain": [
       "<Figure size 800x720 with 1 Axes>"
      ]
     },
     "metadata": {
      "needs_background": "light"
     },
     "output_type": "display_data"
    }
   ],
   "source": [
    "plt.rcParams.update({'font.size': 10}) #sets size of labels/title \n",
    "figure(figsize=(10, 9), dpi=80) #sets the figure/graph size\n",
    "\n",
    "#creates scatterplot with number of releases as x values and total gross as y values \n",
    "ax=sns.scatterplot(x='NumberOfReleases', y='Total Gross', data=movie_gross) \n",
    "\n",
    "plt.xlabel('Number of Movie Theater Releases') #x label\n",
    "plt.ylabel('Year Total Gross (le 10)')#y label\n",
    "plt.title(\"Number of Releases Versus Movie Gross for the #1 Yearly Gross Movies\") #makes title\n",
    "\n",
    "# uses the x and y columns....\n",
    "x= movie_gross['NumberOfReleases']\n",
    "y= movie_gross['Total Gross']\n",
    "\n",
    "# ...to get the m and b for the line of best fit (degree of 1)\n",
    "#plots that line on the graph\n",
    "m, b = np.polyfit(x,y,1)\n",
    "plt.plot(x, m*x+b)\n",
    "\n",
    "plt.show()"
   ]
  },
  {
   "cell_type": "markdown",
   "id": "5c58c8dc",
   "metadata": {},
   "source": [
    "Here we are seeing if the number of theater releases have possible relationship with the Year Total Gross of that movie. Our hypothesis was that there would be a strong trend so that the higher the number of box office releases the higher the gross. In fact, we thought there would be a somewhat correlation/linear relationship between those two variables. This hypothesis ended up being supported by the data."
   ]
  },
  {
   "cell_type": "markdown",
   "id": "b8d884d5",
   "metadata": {},
   "source": [
    "Lets take a look at the total amount of film productions by genre across time.\n",
    "Approaching this analysis is quite challenging because the genre column in our dataframe does not contain a single genre value.\n",
    "Most movies listed in the data are listed under at least two different genres. Therefore, we have decided to count the movies for as many genres they are listed for. \n",
    "\n",
    "We have created a dictionary to count the number of movies by genre and removed the least common genres. This dictionary  has been used to plot the following graph."
   ]
  },
  {
   "cell_type": "code",
   "execution_count": 28,
   "id": "95633a7d",
   "metadata": {},
   "outputs": [
    {
     "data": {
      "image/png": "[encoded data removed]",
      "text/plain": [
       "<Figure size 792x432 with 1 Axes>"
      ]
     },
     "metadata": {
      "needs_background": "light"
     },
     "output_type": "display_data"
    }
   ],
   "source": [
    "#Creating a genres dictionary\n",
    "genre_dict = defaultdict(int)\n",
    "\n",
    "#Counter function\n",
    "def get_genre (data):\n",
    "  try: \n",
    "    curr_genres = data.split(',')\n",
    "    for genre in curr_genres:\n",
    "      genre_dict[genre] += 1\n",
    "  except AttributeError: \n",
    "    pass\n",
    "       \n",
    "  return data\n",
    "\n",
    "full_table['genres'].apply(get_genre)\n",
    "\n",
    "#Removing undesired genres\n",
    "del genre_dict['War'],genre_dict['Short'],genre_dict['Biography']\n",
    "del genre_dict['History'],genre_dict['Game-Show'],genre_dict['Sport']\n",
    "del genre_dict['Reality-TV'],genre_dict['News'],genre_dict['Talk-Show']\n",
    "del genre_dict['Documentary'],genre_dict['Music'],genre_dict['Adventure']\n",
    "del genre_dict['Adult'],genre_dict['Family'],genre_dict['Western']\n",
    "\n",
    "#Graph of total movies by genre (1960 - 2021)\n",
    "g = list(genre_dict.keys())\n",
    "vals = list(genre_dict.values())\n",
    "\n",
    "plt.figure(figsize=(11,6))\n",
    "plt.bar(range(len(genre_dict)),vals,tick_label=g)\n",
    "plt.title('Total Movies by Genre (1960 - 2021)', fontsize=20)\n",
    "plt.xlabel('Genres', fontsize=18)\n",
    "plt.ylabel('Total Movies', fontsize=16)\n",
    "\n",
    "plt.show()"
   ]
  },
  {
   "cell_type": "markdown",
   "id": "95118c47",
   "metadata": {},
   "source": [
    "We can observe that Comedy and Drama are the genres more listed in the data. This numbers do not support our hypothesis, in fact, it could disprove it. According to our hypothesis, genres like Horror, Action, and Animation are the most produced among all genres. Different genres have had their own golden years so we will narrow our analysis and subset the data to plot values from 2010 to 2021."
   ]
  },
  {
   "cell_type": "code",
   "execution_count": 29,
   "id": "d56dce32",
   "metadata": {},
   "outputs": [
    {
     "data": {
      "image/png": "[encoded data removed]",
      "text/plain": [
       "<Figure size 792x432 with 1 Axes>"
      ]
     },
     "metadata": {
      "needs_background": "light"
     },
     "output_type": "display_data"
    }
   ],
   "source": [
    "# new range table\n",
    "cut_table = full_table[full_table[\"releaseYear\"] >2009]\n",
    "\n",
    "genre_dict2 = defaultdict(int)\n",
    "\n",
    "def get_genre (data):\n",
    "  try: \n",
    "    curr_genres = data.split(',')\n",
    "    for genre in curr_genres:\n",
    "      genre_dict2[genre] += 1\n",
    "  except AttributeError: \n",
    "    pass\n",
    "       \n",
    "  return data\n",
    "\n",
    "cut_table['genres'].apply(get_genre)\n",
    "\n",
    "del genre_dict2['War'],genre_dict2['Short'],genre_dict2['Biography']\n",
    "del genre_dict2['History'],genre_dict2['Game-Show'],genre_dict2['Sport']\n",
    "del genre_dict2['Reality-TV'],genre_dict2['News'],genre_dict2['Talk-Show']\n",
    "del genre_dict2['Documentary'],genre_dict2['Music'],genre_dict2['Adventure']\n",
    "del genre_dict2['Adult'],genre_dict2['Family'],genre_dict2['Western']\n",
    "\n",
    "#Graph of total movies (2010-2021)\n",
    "g = list(genre_dict2.keys())\n",
    "vals = list(genre_dict2.values())\n",
    "\n",
    "plt.figure(figsize=(11,6))\n",
    "plt.bar(range(len(genre_dict2)),vals,tick_label=g)\n",
    "plt.title('Total Movies by Genre (2010-2021)', fontsize=20)\n",
    "plt.xlabel('Genres', fontsize=18)\n",
    "plt.ylabel('Total Movies', fontsize=16)\n",
    "\n",
    "plt.show()"
   ]
  },
  {
   "cell_type": "markdown",
   "id": "0834c207",
   "metadata": {},
   "source": [
    "We can observe that the trend has not changed. Comedy and Drama continue being the genres more produced. Lets look at the last 5 years total film production."
   ]
  },
  {
   "cell_type": "code",
   "execution_count": 30,
   "id": "2d8d5a65",
   "metadata": {},
   "outputs": [
    {
     "data": {
      "image/png": "[encoded data removed]",
      "text/plain": [
       "<Figure size 792x432 with 1 Axes>"
      ]
     },
     "metadata": {
      "needs_background": "light"
     },
     "output_type": "display_data"
    }
   ],
   "source": [
    "#new range table\n",
    "cut_table2 = full_table[full_table[\"releaseYear\"] >2016]\n",
    "\n",
    "\n",
    "genre_dict3 = defaultdict(int)\n",
    "\n",
    "def get_genre (data):\n",
    "  try: \n",
    "    curr_genres = data.split(',')\n",
    "    for genre in curr_genres:\n",
    "      genre_dict3[genre] += 1\n",
    "  except AttributeError: \n",
    "    pass\n",
    "       \n",
    "  return data\n",
    "\n",
    "cut_table2['genres'].apply(get_genre)\n",
    "\n",
    "del genre_dict3['War'],genre_dict3['Short'],genre_dict3['Biography']\n",
    "del genre_dict3['History'],genre_dict3['Game-Show'],genre_dict3['Sport']\n",
    "del genre_dict3['Reality-TV'],genre_dict3['News'],genre_dict3['Talk-Show']\n",
    "del genre_dict3['Documentary'],genre_dict3['Music'],genre_dict3['Adventure']\n",
    "del genre_dict3['Adult'],genre_dict3['Family'],genre_dict3['Western']\n",
    "\n",
    "#Graph of total movies (2016-2021)\n",
    "g = list(genre_dict3.keys())\n",
    "vals = list(genre_dict3.values())\n",
    "\n",
    "plt.figure(figsize=(11,6))\n",
    "plt.bar(range(len(genre_dict3)),vals,tick_label=g)\n",
    "plt.title('Total Movies by Genre (2016-2021)', fontsize=20)\n",
    "plt.xlabel('Genres', fontsize=18)\n",
    "plt.ylabel('Total Movies', fontsize=16)\n",
    "\n",
    "plt.show()"
   ]
  },
  {
   "cell_type": "markdown",
   "id": "_8JSq4MnZLrD",
   "metadata": {
    "id": "_8JSq4MnZLrD"
   },
   "source": [
    "Once again, the graph has not significately changed. We can observe how some genres start rising in number like Action and Crime but Drama and Comedy continue being the most produced genres. So far this part of our analysis has not helped us prove our hypothesis, we believe that Animation and Horror are the most produced film genres. We will try to find some answers by analysing the rating and number of votes. "
   ]
  },
  {
   "cell_type": "code",
   "execution_count": 31,
   "id": "3b7afd06",
   "metadata": {},
   "outputs": [
    {
     "data": {
      "text/plain": [
       "<AxesSubplot:>"
      ]
     },
     "execution_count": 31,
     "metadata": {},
     "output_type": "execute_result"
    },
    {
     "data": {
      "image/png": "[encoded data removed]",
      "text/plain": [
       "<Figure size 432x288 with 1 Axes>"
      ]
     },
     "metadata": {
      "needs_background": "light"
     },
     "output_type": "display_data"
    }
   ],
   "source": [
    "full_table['averageRating'].hist(bins=30)"
   ]
  },
  {
   "cell_type": "markdown",
   "id": "78e2f0e6",
   "metadata": {},
   "source": [
    "As we can see, the average movie falls within the 7-8 range for its rating. Very few movies receive absolutely amazing ratings or absolutely terrible ratings. It's interesting to see that the curve falls much more steeply when aiming for higher ratings but the slope is much more gentle when headings towards lower ratings. From this we can surmise that it's harder to earn a perfect score and please enough people to get a rating that high while its much easier to earn a lower rating. Now, this might have been obvious as it takes a lot of time, effort, and money to make a hit movie (and there's no guarantee that it pays off; ie. no correlation between gross and rating) but it's much easier to understand now that we have a visual."
   ]
  },
  {
   "cell_type": "markdown",
   "id": "65741a52",
   "metadata": {},
   "source": [
    "To visualize the genres in 0's and 1's, we made a table where we can numerically track genres. We achieved this by adding a column for each genre and have entries of 0 or 1 if the movie in the given row does or doesn't belonged to that genre."
   ]
  },
  {
   "cell_type": "code",
   "execution_count": 32,
   "id": "b10ee1db",
   "metadata": {},
   "outputs": [
    {
     "data": {
      "text/html": [
       "<div>\n",
       "<style scoped>\n",
       "    .dataframe tbody tr th:only-of-type {\n",
       "        vertical-align: middle;\n",
       "    }\n",
       "\n",
       "    .dataframe tbody tr th {\n",
       "        vertical-align: top;\n",
       "    }\n",
       "\n",
       "    .dataframe thead th {\n",
       "        text-align: right;\n",
       "    }\n",
       "</style>\n",
       "<table border=\"1\" class=\"dataframe\">\n",
       "  <thead>\n",
       "    <tr style=\"text-align: right;\">\n",
       "      <th></th>\n",
       "      <th>tconst</th>\n",
       "      <th>title</th>\n",
       "      <th>releaseYear</th>\n",
       "      <th>genres</th>\n",
       "      <th>averageRating</th>\n",
       "      <th>numVotes</th>\n",
       "      <th>Action</th>\n",
       "      <th>Adventure</th>\n",
       "      <th>Animation</th>\n",
       "      <th>Comedy</th>\n",
       "      <th>Drama</th>\n",
       "      <th>Fantasy</th>\n",
       "      <th>Horror</th>\n",
       "      <th>Musical</th>\n",
       "      <th>Romance</th>\n",
       "      <th>Sci-Fi</th>\n",
       "      <th>Thriller</th>\n",
       "    </tr>\n",
       "  </thead>\n",
       "  <tbody>\n",
       "    <tr>\n",
       "      <th>450183</th>\n",
       "      <td>tt10156586</td>\n",
       "      <td>Snow Black</td>\n",
       "      <td>2021</td>\n",
       "      <td>Action</td>\n",
       "      <td>2.3</td>\n",
       "      <td>70</td>\n",
       "      <td>0</td>\n",
       "      <td>0</td>\n",
       "      <td>0</td>\n",
       "      <td>0</td>\n",
       "      <td>0</td>\n",
       "      <td>0</td>\n",
       "      <td>0</td>\n",
       "      <td>0</td>\n",
       "      <td>0</td>\n",
       "      <td>0</td>\n",
       "      <td>0</td>\n",
       "    </tr>\n",
       "    <tr>\n",
       "      <th>612720</th>\n",
       "      <td>tt13837022</td>\n",
       "      <td>Hot Money</td>\n",
       "      <td>2021</td>\n",
       "      <td>Documentary</td>\n",
       "      <td>5.8</td>\n",
       "      <td>120</td>\n",
       "      <td>0</td>\n",
       "      <td>0</td>\n",
       "      <td>0</td>\n",
       "      <td>0</td>\n",
       "      <td>0</td>\n",
       "      <td>0</td>\n",
       "      <td>0</td>\n",
       "      <td>0</td>\n",
       "      <td>0</td>\n",
       "      <td>0</td>\n",
       "      <td>0</td>\n",
       "    </tr>\n",
       "    <tr>\n",
       "      <th>612832</th>\n",
       "      <td>tt13839188</td>\n",
       "      <td>Designed with Love</td>\n",
       "      <td>2021</td>\n",
       "      <td>Romance</td>\n",
       "      <td>6.1</td>\n",
       "      <td>180</td>\n",
       "      <td>0</td>\n",
       "      <td>0</td>\n",
       "      <td>0</td>\n",
       "      <td>0</td>\n",
       "      <td>0</td>\n",
       "      <td>0</td>\n",
       "      <td>0</td>\n",
       "      <td>0</td>\n",
       "      <td>0</td>\n",
       "      <td>0</td>\n",
       "      <td>0</td>\n",
       "    </tr>\n",
       "    <tr>\n",
       "      <th>612852</th>\n",
       "      <td>tt13839612</td>\n",
       "      <td>Strictly for the Streets: Vol 1.</td>\n",
       "      <td>2021</td>\n",
       "      <td>Drama</td>\n",
       "      <td>9.4</td>\n",
       "      <td>110</td>\n",
       "      <td>0</td>\n",
       "      <td>0</td>\n",
       "      <td>0</td>\n",
       "      <td>0</td>\n",
       "      <td>0</td>\n",
       "      <td>0</td>\n",
       "      <td>0</td>\n",
       "      <td>0</td>\n",
       "      <td>0</td>\n",
       "      <td>0</td>\n",
       "      <td>0</td>\n",
       "    </tr>\n",
       "    <tr>\n",
       "      <th>612870</th>\n",
       "      <td>tt13840726</td>\n",
       "      <td>Wendy Williams: What a Mess!</td>\n",
       "      <td>2021</td>\n",
       "      <td>Biography,Documentary</td>\n",
       "      <td>6.4</td>\n",
       "      <td>166</td>\n",
       "      <td>0</td>\n",
       "      <td>0</td>\n",
       "      <td>0</td>\n",
       "      <td>0</td>\n",
       "      <td>0</td>\n",
       "      <td>0</td>\n",
       "      <td>0</td>\n",
       "      <td>0</td>\n",
       "      <td>0</td>\n",
       "      <td>0</td>\n",
       "      <td>0</td>\n",
       "    </tr>\n",
       "  </tbody>\n",
       "</table>\n",
       "</div>"
      ],
      "text/plain": [
       "            tconst                             title  releaseYear  \\\n",
       "450183  tt10156586                        Snow Black         2021   \n",
       "612720  tt13837022                         Hot Money         2021   \n",
       "612832  tt13839188                Designed with Love         2021   \n",
       "612852  tt13839612  Strictly for the Streets: Vol 1.         2021   \n",
       "612870  tt13840726      Wendy Williams: What a Mess!         2021   \n",
       "\n",
       "                       genres  averageRating  numVotes  Action  Adventure  \\\n",
       "450183                 Action            2.3        70       0          0   \n",
       "612720            Documentary            5.8       120       0          0   \n",
       "612832                Romance            6.1       180       0          0   \n",
       "612852                  Drama            9.4       110       0          0   \n",
       "612870  Biography,Documentary            6.4       166       0          0   \n",
       "\n",
       "        Animation  Comedy  Drama  Fantasy  Horror  Musical  Romance  Sci-Fi  \\\n",
       "450183          0       0      0        0       0        0        0       0   \n",
       "612720          0       0      0        0       0        0        0       0   \n",
       "612832          0       0      0        0       0        0        0       0   \n",
       "612852          0       0      0        0       0        0        0       0   \n",
       "612870          0       0      0        0       0        0        0       0   \n",
       "\n",
       "        Thriller  \n",
       "450183         0  \n",
       "612720         0  \n",
       "612832         0  \n",
       "612852         0  \n",
       "612870         0  "
      ]
     },
     "execution_count": 32,
     "metadata": {},
     "output_type": "execute_result"
    }
   ],
   "source": [
    "period_table = full_table[full_table[\"releaseYear\"] >2016]\n",
    "\n",
    "period_table['Action'] = 0\n",
    "period_table['Adventure'] = 0\n",
    "period_table['Animation'] = 0\n",
    "period_table['Comedy'] = 0\n",
    "period_table['Drama'] = 0\n",
    "period_table['Fantasy'] = 0\n",
    "period_table['Horror'] = 0\n",
    "period_table['Musical'] = 0\n",
    "period_table['Romance'] = 0\n",
    "period_table['Sci-Fi'] = 0\n",
    "period_table['Thriller'] = 0\n",
    "\n",
    "period_table.head()"
   ]
  },
  {
   "cell_type": "code",
   "execution_count": 33,
   "id": "2f66905c",
   "metadata": {},
   "outputs": [
    {
     "data": {
      "text/html": [
       "<div>\n",
       "<style scoped>\n",
       "    .dataframe tbody tr th:only-of-type {\n",
       "        vertical-align: middle;\n",
       "    }\n",
       "\n",
       "    .dataframe tbody tr th {\n",
       "        vertical-align: top;\n",
       "    }\n",
       "\n",
       "    .dataframe thead th {\n",
       "        text-align: right;\n",
       "    }\n",
       "</style>\n",
       "<table border=\"1\" class=\"dataframe\">\n",
       "  <thead>\n",
       "    <tr style=\"text-align: right;\">\n",
       "      <th></th>\n",
       "      <th>tconst</th>\n",
       "      <th>title</th>\n",
       "      <th>releaseYear</th>\n",
       "      <th>genres</th>\n",
       "      <th>averageRating</th>\n",
       "      <th>numVotes</th>\n",
       "      <th>Action</th>\n",
       "      <th>Adventure</th>\n",
       "      <th>Animation</th>\n",
       "      <th>Comedy</th>\n",
       "      <th>Drama</th>\n",
       "      <th>Fantasy</th>\n",
       "      <th>Horror</th>\n",
       "      <th>Musical</th>\n",
       "      <th>Romance</th>\n",
       "      <th>Sci-Fi</th>\n",
       "      <th>Thriller</th>\n",
       "    </tr>\n",
       "  </thead>\n",
       "  <tbody>\n",
       "    <tr>\n",
       "      <th>450183</th>\n",
       "      <td>tt10156586</td>\n",
       "      <td>Snow Black</td>\n",
       "      <td>2021</td>\n",
       "      <td>Action</td>\n",
       "      <td>2.3</td>\n",
       "      <td>70</td>\n",
       "      <td>1</td>\n",
       "      <td>0</td>\n",
       "      <td>0</td>\n",
       "      <td>0</td>\n",
       "      <td>0</td>\n",
       "      <td>0</td>\n",
       "      <td>0</td>\n",
       "      <td>0</td>\n",
       "      <td>0</td>\n",
       "      <td>0</td>\n",
       "      <td>0</td>\n",
       "    </tr>\n",
       "    <tr>\n",
       "      <th>612720</th>\n",
       "      <td>tt13837022</td>\n",
       "      <td>Hot Money</td>\n",
       "      <td>2021</td>\n",
       "      <td>Documentary</td>\n",
       "      <td>5.8</td>\n",
       "      <td>120</td>\n",
       "      <td>0</td>\n",
       "      <td>0</td>\n",
       "      <td>0</td>\n",
       "      <td>0</td>\n",
       "      <td>0</td>\n",
       "      <td>0</td>\n",
       "      <td>0</td>\n",
       "      <td>0</td>\n",
       "      <td>0</td>\n",
       "      <td>0</td>\n",
       "      <td>0</td>\n",
       "    </tr>\n",
       "    <tr>\n",
       "      <th>612832</th>\n",
       "      <td>tt13839188</td>\n",
       "      <td>Designed with Love</td>\n",
       "      <td>2021</td>\n",
       "      <td>Romance</td>\n",
       "      <td>6.1</td>\n",
       "      <td>180</td>\n",
       "      <td>0</td>\n",
       "      <td>0</td>\n",
       "      <td>0</td>\n",
       "      <td>0</td>\n",
       "      <td>0</td>\n",
       "      <td>0</td>\n",
       "      <td>0</td>\n",
       "      <td>0</td>\n",
       "      <td>1</td>\n",
       "      <td>0</td>\n",
       "      <td>0</td>\n",
       "    </tr>\n",
       "    <tr>\n",
       "      <th>612852</th>\n",
       "      <td>tt13839612</td>\n",
       "      <td>Strictly for the Streets: Vol 1.</td>\n",
       "      <td>2021</td>\n",
       "      <td>Drama</td>\n",
       "      <td>9.4</td>\n",
       "      <td>110</td>\n",
       "      <td>0</td>\n",
       "      <td>0</td>\n",
       "      <td>0</td>\n",
       "      <td>0</td>\n",
       "      <td>1</td>\n",
       "      <td>0</td>\n",
       "      <td>0</td>\n",
       "      <td>0</td>\n",
       "      <td>0</td>\n",
       "      <td>0</td>\n",
       "      <td>0</td>\n",
       "    </tr>\n",
       "    <tr>\n",
       "      <th>612870</th>\n",
       "      <td>tt13840726</td>\n",
       "      <td>Wendy Williams: What a Mess!</td>\n",
       "      <td>2021</td>\n",
       "      <td>Biography,Documentary</td>\n",
       "      <td>6.4</td>\n",
       "      <td>166</td>\n",
       "      <td>0</td>\n",
       "      <td>0</td>\n",
       "      <td>0</td>\n",
       "      <td>0</td>\n",
       "      <td>0</td>\n",
       "      <td>0</td>\n",
       "      <td>0</td>\n",
       "      <td>0</td>\n",
       "      <td>0</td>\n",
       "      <td>0</td>\n",
       "      <td>0</td>\n",
       "    </tr>\n",
       "  </tbody>\n",
       "</table>\n",
       "</div>"
      ],
      "text/plain": [
       "            tconst                             title  releaseYear  \\\n",
       "450183  tt10156586                        Snow Black         2021   \n",
       "612720  tt13837022                         Hot Money         2021   \n",
       "612832  tt13839188                Designed with Love         2021   \n",
       "612852  tt13839612  Strictly for the Streets: Vol 1.         2021   \n",
       "612870  tt13840726      Wendy Williams: What a Mess!         2021   \n",
       "\n",
       "                       genres  averageRating  numVotes  Action  Adventure  \\\n",
       "450183                 Action            2.3        70       1          0   \n",
       "612720            Documentary            5.8       120       0          0   \n",
       "612832                Romance            6.1       180       0          0   \n",
       "612852                  Drama            9.4       110       0          0   \n",
       "612870  Biography,Documentary            6.4       166       0          0   \n",
       "\n",
       "        Animation  Comedy  Drama  Fantasy  Horror  Musical  Romance  Sci-Fi  \\\n",
       "450183          0       0      0        0       0        0        0       0   \n",
       "612720          0       0      0        0       0        0        0       0   \n",
       "612832          0       0      0        0       0        0        1       0   \n",
       "612852          0       0      1        0       0        0        0       0   \n",
       "612870          0       0      0        0       0        0        0       0   \n",
       "\n",
       "        Thriller  \n",
       "450183         0  \n",
       "612720         0  \n",
       "612832         0  \n",
       "612852         0  \n",
       "612870         0  "
      ]
     },
     "execution_count": 33,
     "metadata": {},
     "output_type": "execute_result"
    }
   ],
   "source": [
    "#removes rows with missing elements\n",
    "period_table = period_table.dropna()\n",
    "\n",
    "i = 0\n",
    "#marks the genre columns that the movie belongs to\n",
    "while i < len(period_table.index):\n",
    "      curr_str = period_table.iat[i,3]\n",
    "      if curr_str.find(\"Action\") != -1:\n",
    "        period_table.iat[i,6] = 1\n",
    "\n",
    "      if curr_str.find(\"Adventure\") != -1:\n",
    "        period_table.iat[i,7] = 1\n",
    "\n",
    "      if curr_str.find(\"Animation\") != -1:\n",
    "        period_table.iat[i,8] = 1\n",
    "\n",
    "      if curr_str.find(\"Comedy\") != -1:\n",
    "        period_table.iat[i,9] = 1\n",
    "\n",
    "      if curr_str.find(\"Drama\") != -1:\n",
    "        period_table.iat[i,10] = 1\n",
    "\n",
    "      if curr_str.find(\"Fantasy\") != -1:\n",
    "        period_table.iat[i,11] = 1\n",
    "\n",
    "      if curr_str.find(\"Horror\") != -1:\n",
    "        period_table.iat[i,12] = 1\n",
    "\n",
    "      if curr_str.find(\"Musical\") != -1:\n",
    "        period_table.iat[i,13] = 1\n",
    "\n",
    "      if curr_str.find(\"Romance\") != -1:\n",
    "        period_table.iat[i,14] = 1\n",
    "\n",
    "      if curr_str.find(\"Sci-Fi\") != -1:\n",
    "        period_table.iat[i,15] = 1\n",
    "\n",
    "      if curr_str.find(\"Thriller\") != -1:\n",
    "        period_table.iat[i,16] = 1\n",
    "      \n",
    "      i+=1\n",
    "\n",
    "period_table.head()"
   ]
  },
  {
   "cell_type": "code",
   "execution_count": 34,
   "id": "3eba5ddd",
   "metadata": {},
   "outputs": [
    {
     "data": {
      "text/plain": [
       "array(['Drama', 'Comedy', 'Action', 'Horror', 'Adventure', 'Animation',\n",
       "       'Romance'], dtype=object)"
      ]
     },
     "execution_count": 34,
     "metadata": {},
     "output_type": "execute_result"
    }
   ],
   "source": [
    "#gets the top 7 genres\n",
    "top_genres = period_table.iloc[:, 6:-1].sum().sort_values(ascending=False).head(7).index.values\n",
    "top_genres"
   ]
  },
  {
   "cell_type": "code",
   "execution_count": 35,
   "id": "f8c21067",
   "metadata": {},
   "outputs": [
    {
     "data": {
      "text/plain": [
       "<AxesSubplot:title={'center':'Top Genre Counts Over Time'}, xlabel='releaseYear'>"
      ]
     },
     "execution_count": 35,
     "metadata": {},
     "output_type": "execute_result"
    },
    {
     "data": {
      "image/png": "[encoded data removed]",
      "text/plain": [
       "<Figure size 1080x360 with 1 Axes>"
      ]
     },
     "metadata": {
      "needs_background": "light"
     },
     "output_type": "display_data"
    }
   ],
   "source": [
    "period_table[\"releaseYear\"].dropna()\n",
    "\n",
    "genre_table = period_table.iloc[:, 6:].groupby(period_table[\"releaseYear\"]).sum().loc[\"1960\":\"2021\", top_genres]\n",
    "genre_table.rolling(2).mean().plot(figsize=(15,5),title=\"Top Genre Counts Over Time\")"
   ]
  },
  {
   "cell_type": "code",
   "execution_count": 36,
   "id": "fbe0f9cf",
   "metadata": {},
   "outputs": [
    {
     "data": {
      "text/plain": [
       "<AxesSubplot:title={'center':'Top Genre Votes Over Time'}, xlabel='numVotes'>"
      ]
     },
     "execution_count": 36,
     "metadata": {},
     "output_type": "execute_result"
    },
    {
     "data": {
      "image/png": "[encoded data removed]",
      "text/plain": [
       "<Figure size 1080x360 with 1 Axes>"
      ]
     },
     "metadata": {
      "needs_background": "light"
     },
     "output_type": "display_data"
    }
   ],
   "source": [
    "genre_table = period_table.iloc[:, 6:].groupby(period_table[\"numVotes\"]).sum().loc[\"1960\":\"2021\", top_genres]\n",
    "genre_table.rolling(2).mean().plot(figsize=(15,5),title=\"Top Genre Votes Over Time\")"
   ]
  },
  {
   "cell_type": "markdown",
   "id": "78fb3c57",
   "metadata": {},
   "source": [
    "This graph is focused only on data from 1960 to 2020. Drama movies are the most voted among genres followed by Comedy. This could mean that the most voted genres are the most acclaimed, therefore these are the most produced. The fact that people are more willing to vote for certain movie genres, proves that these genres are also more consumed than the rest. This is definitely related to the production trend seen in previous graphs. The production of Drama and Comedy could be related to the number of votes from viewers."
   ]
  },
  {
   "cell_type": "code",
   "execution_count": 37,
   "id": "f9fa691f",
   "metadata": {},
   "outputs": [
    {
     "data": {
      "text/plain": [
       "<AxesSubplot:title={'center':'Top Genre Votes Over Time (2016-2021)'}, xlabel='numVotes'>"
      ]
     },
     "execution_count": 37,
     "metadata": {},
     "output_type": "execute_result"
    },
    {
     "data": {
      "image/png": "[encoded data removed]",
      "text/plain": [
       "<Figure size 1080x360 with 1 Axes>"
      ]
     },
     "metadata": {
      "needs_background": "light"
     },
     "output_type": "display_data"
    }
   ],
   "source": [
    "genre_table = period_table.iloc[:, 6:].groupby(period_table[\"numVotes\"]).sum().loc[\"2016\":\"2021\", top_genres]\n",
    "genre_table.rolling(2).mean().plot(figsize=(15,5),title=\"Top Genre Votes Over Time (2016-2021)\")"
   ]
  },
  {
   "cell_type": "markdown",
   "id": "13014617",
   "metadata": {},
   "source": [
    "This graph gives a closer look at what's happening during the last five years and the correlation between votes and top genre.\n",
    "\n"
   ]
  },
  {
   "cell_type": "markdown",
   "id": "c93f902f",
   "metadata": {},
   "source": [
    "## Hypothesis Analysis \n",
    "\n",
    "Now it is time to go to the Hypothesis Testing. This stage is where researchers form a hoypothesis based off the patterns and visuals seens in the Exploratory stage. That hypothesis is then tested to see if the data supports or doesn't support it. There are generally three stages to this phase:\n",
    "\n",
    "1. Stating the null and (alternate) hypothesis- The alternate hypothesis proposes the thing you are trying to prove. The null hypothesis usually proposes that there is no difference or relation between the subject. However, you can think of it as the opposite of alternate hypothesis.\n",
    "\n",
    "2. Perform an appropriate statistical test- There are many statistical tests and structures that can be used to see if the data supports or rejects the null hypothesis. Some of them are linear regression, gradient descent, and decision trees. We will be using linear regression in the project example. \n",
    "\n",
    "3. State whether the null hypothesis was rejected or if you failed to reject it.\n",
    "\n"
   ]
  },
  {
   "cell_type": "markdown",
   "id": "954849c5",
   "metadata": {},
   "source": [
    "#### What are our hypotheses?\n",
    "\n",
    "Based on the trends we saw in the exploratory stage we are forming the following hypotheses:\n",
    "\n",
    "* Null  - The number of votes a movie gets has no influence on the number of movies in that genre produced\n",
    "* (Alternative) Hypothesis  - Are the most voted for genres the most acclaimed and, therefore, the most produced?\n",
    "\n"
   ]
  },
  {
   "cell_type": "markdown",
   "id": "feaab363",
   "metadata": {},
   "source": [
    "Throughout our analysis of thousands of movies and their various statistics, we attempted to make conclusions about data before fully seeing it and having our thoughts proven or disproven.\n",
    "\n",
    "Originally, we attempted to find a correlation between movie gross and it's rating. We had thought movie that earned more money would end up with a higher rating. We found that there was no correlation between the two and that movies could be very poorly rated while making a lot of money. In the end, this hypothesis was flawed due to the lack of consideration of industries and franchises. At the end of the day, widely known and popular series' will gather a lotof traction, attention, and money regardless of the quality of the movie. We can see this in the highest grossing film of the domestic box office. Star Wars: The Force Awakens is the top lifetime earner for the domestic box office yet it only has a rating of 7.8, with many more movies rating higher than it.\n",
    "\n",
    "We tried exploring a similar route with the number of votes a movie recieved increasing with the amount of money it made, but ended up with the same conclusion: no correlation. In fact, the only correlation we found between a movies gross and any other information we had available was the number of times it was released. As was expected, the more times a movie was released, the more money it made.\n",
    "\n",
    "\n",
    "From there we shifted perspective towards genres, their popularity, their production, and their ratings. We went into this process expecting Action, Animation, and Horror movies to be the most produced genres. When looking at all the domestic films from 1960 onward, we quickly saw that we were wrong. Drama and Comedy were the most produced genres in the film industry during that time frame. While Action did fall in third place, it was much further behind the top two genres. When looking at smaller, more recent time frames, the results remained the same: Drama and Comedy are the most produced genres. With these new industry titans on our mind, we decided to see if there was a similar popularity that followed this mass production. As we thought, Drama movies had a much higher number of votes than all other genres. To us, this meant one of two things (or both): Drama movies are the most popular genre or they receive so many votes due to the number of movies being produced.\n",
    "\n",
    "Now, despite seeing our original hypothesis on genres being wrong, lets do one last check. Instead of looking at all the movies made, we can look at just the top 100 grossing movies to see which genres sell the best."
   ]
  },
  {
   "cell_type": "code",
   "execution_count": 38,
   "id": "2b33923e",
   "metadata": {
    "scrolled": false
   },
   "outputs": [
    {
     "data": {
      "image/png": "[encoded data removed]",
      "text/plain": [
       "<Figure size 1008x432 with 1 Axes>"
      ]
     },
     "metadata": {
      "needs_background": "light"
     },
     "output_type": "display_data"
    }
   ],
   "source": [
    "#Creating a genres dictionary\n",
    "genre_dict = defaultdict(int)\n",
    "\n",
    "#Counter function\n",
    "def get_genre (data):\n",
    "  try: \n",
    "    curr_genres = data.split(',')\n",
    "    for genre in curr_genres:\n",
    "      genre_dict[genre] += 1\n",
    "  except AttributeError: \n",
    "    pass\n",
    "       \n",
    "  return data\n",
    "\n",
    "df['Genres'].apply(get_genre)\n",
    "\n",
    "#Removing undesired genres\n",
    "del genre_dict['Family'], genre_dict['Biography']\n",
    "\n",
    "#Graph of total movies by genre (1960 - 2021)\n",
    "g = list(genre_dict.keys())\n",
    "vals = list(genre_dict.values())\n",
    "\n",
    "plt.figure(figsize=(14,6))\n",
    "plt.bar(range(len(genre_dict)),vals,tick_label=g)\n",
    "plt.title('Top 100 Genres', fontsize=20)\n",
    "plt.xlabel('Genres', fontsize=18)\n",
    "plt.ylabel('Top 100 Movies', fontsize=16)\n",
    "\n",
    "plt.show()"
   ]
  },
  {
   "cell_type": "markdown",
   "id": "c565111e",
   "metadata": {},
   "source": [
    "From this graph we can see that Drama and Comedy no longer rise above the other genres! We can see that over 60% of the top 100 grossing domestic films are classified as action movies. Animation even falls on a similar level to Drama and Comedy, with Horror being one of the smallest groups. While our original hypothesis of Action, Animation, and Horror being the most produced films was incorrect, we can draw a different yet important conclusion: Action and Animation movies make up a sizeable portion of the top money making movies. There may not be as many Action and Animation movies (compared to Drama and Comedy) but they seem to make more money."
   ]
  },
  {
   "cell_type": "markdown",
   "id": "6907cb24",
   "metadata": {},
   "source": [
    "#### Did we reject or fail to reject the null hypothesis?\n",
    "\n",
    "In order to test the null hypothesis we need to make a model of linear regression between the number of movies in a genre and the number of votes that genre receives."
   ]
  },
  {
   "cell_type": "code",
   "execution_count": 39,
   "id": "2f20aa7a",
   "metadata": {},
   "outputs": [],
   "source": [
    "tt = full_table\n",
    "tt = tt.dropna()\n",
    "#stores total votes for each genre\n",
    "votes = [0, 0, 0, 0, 0, 0, 0, 0, 0, 0, 0]\n",
    "\n",
    "i = 0\n",
    "#gets counts of all votes for each genre\n",
    "while i < len(tt.index):\n",
    "      curr_str = tt.iat[i,3]\n",
    "      if curr_str.find(\"Action\") != -1:\n",
    "        votes[0] = votes[0] + tt.iat[i,5]\n",
    "\n",
    "      if curr_str.find(\"Romance\") != -1:\n",
    "        votes[1] = votes[1] + tt.iat[i,5]\n",
    "        \n",
    "      if curr_str.find(\"Drama\") != -1:\n",
    "        votes[2] = votes[2] + tt.iat[i,5]\n",
    "\n",
    "      if curr_str.find(\"Comedy\") != -1:\n",
    "        votes[3] = votes[3] + tt.iat[i,5]\n",
    "\n",
    "      if curr_str.find(\"Thriller\") != -1:\n",
    "        votes[4] = votes[4] + tt.iat[i,5]\n",
    "        \n",
    "      if curr_str.find(\"Animation\") != -1:\n",
    "        votes[5] = votes[5] + tt.iat[i,5]\n",
    "\n",
    "      if curr_str.find(\"Adventure\") != -1:\n",
    "        votes[6] = votes[6] + tt.iat[i,5]\n",
    "\n",
    "      if curr_str.find(\"Horror\") != -1:\n",
    "        votes[7] = votes[7] + tt.iat[i,5]\n",
    "\n",
    "      if curr_str.find(\"Sci-Fi\") != -1:\n",
    "        votes[8] = votes[8] + tt.iat[i,5]\n",
    "\n",
    "      if curr_str.find(\"Fantasy\") != -1:\n",
    "        votes[9] = votes[9] + tt.iat[i,5]\n",
    "\n",
    "      if curr_str.find(\"Musical\") != -1:\n",
    "        votes[10] = votes[10] + tt.iat[i,5]\n",
    "      \n",
    "      i+=1\n"
   ]
  },
  {
   "cell_type": "code",
   "execution_count": 40,
   "id": "2c3c556b",
   "metadata": {},
   "outputs": [],
   "source": [
    "#Creating a genres dictionary\n",
    "genre_dict = defaultdict(int)\n",
    "\n",
    "#Counter function\n",
    "def get_genre (data):\n",
    "  try: \n",
    "    curr_genres = data.split(',')\n",
    "    for genre in curr_genres:\n",
    "      genre_dict[genre] += 1\n",
    "  except AttributeError: \n",
    "    pass\n",
    "       \n",
    "  return data\n",
    "\n",
    "full_table['genres'].apply(get_genre)\n",
    "\n",
    "#Removing undesired genres\n",
    "del genre_dict['War'],genre_dict['Short'],genre_dict['Biography']\n",
    "del genre_dict['History'],genre_dict['Game-Show'],genre_dict['Sport']\n",
    "del genre_dict['Reality-TV'],genre_dict['News'],genre_dict['Talk-Show']\n",
    "del genre_dict['Documentary'],genre_dict['Music'],genre_dict['Mystery']\n",
    "del genre_dict['Adult'],genre_dict['Family'],genre_dict['Western'],genre_dict['Crime']\n",
    "\n",
    "#gets count of movies in each genre\n",
    "vals = list(genre_dict.values())"
   ]
  },
  {
   "cell_type": "markdown",
   "id": "c8b2303e",
   "metadata": {},
   "source": [
    "After getting the count of every movie in each genre and the total number of votes for each genre we can plot the data and examine the regression."
   ]
  },
  {
   "cell_type": "code",
   "execution_count": 41,
   "id": "86acccd2",
   "metadata": {},
   "outputs": [
    {
     "data": {
      "image/png": "[encoded data removed]",
      "text/plain": [
       "<Figure size 800x720 with 1 Axes>"
      ]
     },
     "metadata": {
      "needs_background": "light"
     },
     "output_type": "display_data"
    }
   ],
   "source": [
    "reg = pd.DataFrame(columns=['Movies', 'Votes'])\n",
    "reg['Movies'] = vals\n",
    "reg['Votes'] = votes\n",
    "\n",
    "plt.rcParams.update({'font.size': 10}) #sets size of labels/title \n",
    "figure(figsize=(10, 9), dpi=80) #sets the figure/graph size\n",
    "\n",
    "#creates scatterplot with number of releases as x values and total gross as y values \n",
    "ax=sns.scatterplot(x='Movies', y='Votes', data=reg) \n",
    "\n",
    "plt.xlabel('Number Of Movies Per Genre') #x label\n",
    "plt.ylabel('Total Votes Per Genre')#y label\n",
    "plt.title('Total Movies Per Genre vs Total Votes Per Genre') #makes title\n",
    "\n",
    "plt.show()"
   ]
  },
  {
   "cell_type": "code",
   "execution_count": 42,
   "id": "fe3eefd0",
   "metadata": {
    "scrolled": false
   },
   "outputs": [
    {
     "name": "stdout",
     "output_type": "stream",
     "text": [
      "                            OLS Regression Results                            \n",
      "==============================================================================\n",
      "Dep. Variable:                  Votes   R-squared:                       0.728\n",
      "Model:                            OLS   Adj. R-squared:                  0.698\n",
      "Method:                 Least Squares   F-statistic:                     24.06\n",
      "Date:                Wed, 21 Jul 2021   Prob (F-statistic):           0.000841\n",
      "Time:                        16:18:18   Log-Likelihood:                -213.93\n",
      "No. Observations:                  11   AIC:                             431.9\n",
      "Df Residuals:                       9   BIC:                             432.7\n",
      "Df Model:                           1                                         \n",
      "Covariance Type:            nonrobust                                         \n",
      "==============================================================================\n",
      "                 coef    std err          t      P>|t|      [0.025      0.975]\n",
      "------------------------------------------------------------------------------\n",
      "Intercept   5.626e+07   3.33e+07      1.688      0.126   -1.91e+07    1.32e+08\n",
      "Movies      3052.6425    622.311      4.905      0.001    1644.877    4460.408\n",
      "==============================================================================\n",
      "Omnibus:                        0.552   Durbin-Watson:                   2.820\n",
      "Prob(Omnibus):                  0.759   Jarque-Bera (JB):                0.541\n",
      "Skew:                           0.162   Prob(JB):                        0.763\n",
      "Kurtosis:                       1.963   Cond. No.                     7.92e+04\n",
      "==============================================================================\n",
      "\n",
      "Notes:\n",
      "[1] Standard Errors assume that the covariance matrix of the errors is correctly specified.\n",
      "[2] The condition number is large, 7.92e+04. This might indicate that there are\n",
      "strong multicollinearity or other numerical problems.\n"
     ]
    },
    {
     "name": "stderr",
     "output_type": "stream",
     "text": [
      "C:\\Users\\Crunchwrap Supreme\\anaconda3\\lib\\site-packages\\scipy\\stats\\stats.py:1603: UserWarning: kurtosistest only valid for n>=20 ... continuing anyway, n=11\n",
      "  warnings.warn(\"kurtosistest only valid for n>=20 ... continuing \"\n"
     ]
    }
   ],
   "source": [
    "result = ols(formula = \"Votes ~ Movies\", data = reg).fit()\n",
    "print (result.summary())"
   ]
  },
  {
   "cell_type": "markdown",
   "id": "eb7f4916",
   "metadata": {},
   "source": [
    "From the above table we see that we do not reject the null hypothesis due to the p value being 0.126, a value greater than any acceptable significance level. This means that our hypothesis is incorrect and there is no correlation between the number of votes a genre receives and the production of movies in that genre."
   ]
  },
  {
   "cell_type": "markdown",
   "id": "af74def3",
   "metadata": {},
   "source": [
    "## Insight & Policy Decision/Conclusion\n",
    "\n",
    "Finally, it is time to go to the last phase of the pipeline. In this phase the data scientist communicates what they have done throughout the pipeline and say why their results are important. They should also explain what the experiement tells them as a data scientist and what that would mean for the audience. If they had time constaints they might also mention avenues/ideas that would have been explored if there was more time.\n",
    "\n",
    "NOTE: Communication is the most important part of data science.If you do not provide appropriate and and clear communication that the readers won;t be able to understand the importance of your research As a result, your research would essientially be meaningless. \n",
    "\n",
    "Throughout this project, we have scraped and pulled data from numerous sources to gather as much data on movies and their production as possible. Through our exploration of this data we found correlations between the number of votes and the rating, we've visualized the spread of ratings and the difficulty/ease of earning one, and the genres that generate the most revenue. We've also found that there are many aspects to movies that are completely unrelated or have no correlation due to unseen factors. The greatest takeaway from this project is that there are many more variables involved in predicting a movies success either by rating or gross, and determining popular aspects of films can be challenging and subjective. For instance, poorly rated movies have grossed much higher than their better rated competitors simply because it's part of an existing industry (Star Wars, Harry Potter, Twilight, etc.).\n",
    "\n",
    "Due to our lack of time and pay walls (datasets that cost money), there were many aspects of this project we were unable to explore. In the future, it would be interesting to see which genres gross the most on average or if certain genres are rated higher more often than others. Considering the budget and/or time films used would be another interesting aspect to explore.\n"
   ]
  },
  {
   "cell_type": "markdown",
   "id": "2c869591",
   "metadata": {},
   "source": [
    "## Related Links\n",
    "\n",
    "If you want to continue to explore data science here are some resources that can act as a launch pad. \n",
    "\n",
    "#### General Understanding \n",
    "* https://www.youtube.com/watch?v=X3paOmcrTjQ\n",
    "* https://www.youtube.com/watch?v=4OZip0cgOho\n",
    "* https://www.youtube.com/watch?v=LHBE6Q9XlzI\n",
    "\n",
    "#### Statistics\n",
    "* https://www.youtube.com/watch?v=Lv0xcdeXaGU\n",
    "\n",
    "#### Data Analytics\n",
    "* https://www.dataquest.io/\n",
    "\n",
    "#### Machine Learning\n",
    "* https://www.r-bloggers.com/2014/09/in-depth-introduction-to-machine-learning-in-15-hours-of-expert-videos/"
   ]
  }
 ],
 "metadata": {
  "kernelspec": {
   "display_name": "Python 3 (ipykernel)",
   "language": "python",
   "name": "python3"
  },
  "language_info": {
   "codemirror_mode": {
    "name": "ipython",
    "version": 3
   },
   "file_extension": ".py",
   "mimetype": "text/x-python",
   "name": "python",
   "nbconvert_exporter": "python",
   "pygments_lexer": "ipython3",
   "version": "3.8.8"
  }
 },
 "nbformat": 4,
 "nbformat_minor": 5
}
